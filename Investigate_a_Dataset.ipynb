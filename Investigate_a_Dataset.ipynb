{
 "cells": [
  {
   "cell_type": "markdown",
   "metadata": {},
   "source": [
    "\n",
    "\n",
    "# Project: Investigate TMDb Movies Dataset \n",
    "\n",
    "## Table of Contents\n",
    "<ul>\n",
    "<li><a href=\"#intro\">Introduction</a></li>\n",
    "<li><a href=\"#wrangling\">Data Wrangling</a></li>\n",
    "<li><a href=\"#eda\">Exploratory Data Analysis</a></li>\n",
    "<li><a href=\"#conclusions\">Conclusions</a></li>\n",
    "</ul>"
   ]
  },
  {
   "cell_type": "markdown",
   "metadata": {},
   "source": [
    "<a id='intro'></a>\n",
    "## Introduction\n",
    "\n",
    "> I am useing TMDb dataset for this data anlysis project.\n",
    "## Some questions which can be analyised from this datase\n",
    ">  * How the amount of film production have changed over the years? \n",
    ">  * How Total profit have changed over the years?\n",
    ">  * What properties are associated with movies that have the most popularity?\n",
    ">  * What properties are associated with movies that have high profit?\n",
    ">  * Which genres are more profitable?\n",
    ">  * Who are the most frequent cast in highly profitable movies?\n",
    ">  * Which genres are most popular?\n",
    ">  * Who are the most frequent cast in the most popular movies?\n",
    "\n"
   ]
  },
  {
   "cell_type": "code",
   "execution_count": 783,
   "metadata": {},
   "outputs": [],
   "source": [
    "import pandas as pd\n",
    "import numpy as np\n",
    "import matplotlib.pyplot as plt\n",
    "%matplotlib inline"
   ]
  },
  {
   "cell_type": "markdown",
   "metadata": {},
   "source": [
    "<a id='wrangling'></a>\n",
    "## Data Wrangling\n",
    "\n",
    "> After observing the dataset,i will keep the data that i need to answer the questions and i will delete the unused data from the dataset to keep dataset clean to analyse.\n",
    "\n",
    "### General Properties"
   ]
  },
  {
   "cell_type": "code",
   "execution_count": 784,
   "metadata": {},
   "outputs": [
    {
     "data": {
      "text/html": [
       "<div>\n",
       "<style scoped>\n",
       "    .dataframe tbody tr th:only-of-type {\n",
       "        vertical-align: middle;\n",
       "    }\n",
       "\n",
       "    .dataframe tbody tr th {\n",
       "        vertical-align: top;\n",
       "    }\n",
       "\n",
       "    .dataframe thead th {\n",
       "        text-align: right;\n",
       "    }\n",
       "</style>\n",
       "<table border=\"1\" class=\"dataframe\">\n",
       "  <thead>\n",
       "    <tr style=\"text-align: right;\">\n",
       "      <th></th>\n",
       "      <th>id</th>\n",
       "      <th>imdb_id</th>\n",
       "      <th>popularity</th>\n",
       "      <th>budget</th>\n",
       "      <th>revenue</th>\n",
       "      <th>original_title</th>\n",
       "      <th>cast</th>\n",
       "      <th>homepage</th>\n",
       "      <th>director</th>\n",
       "      <th>tagline</th>\n",
       "      <th>...</th>\n",
       "      <th>overview</th>\n",
       "      <th>runtime</th>\n",
       "      <th>genres</th>\n",
       "      <th>production_companies</th>\n",
       "      <th>release_date</th>\n",
       "      <th>vote_count</th>\n",
       "      <th>vote_average</th>\n",
       "      <th>release_year</th>\n",
       "      <th>budget_adj</th>\n",
       "      <th>revenue_adj</th>\n",
       "    </tr>\n",
       "  </thead>\n",
       "  <tbody>\n",
       "    <tr>\n",
       "      <th>0</th>\n",
       "      <td>135397</td>\n",
       "      <td>tt0369610</td>\n",
       "      <td>32.99</td>\n",
       "      <td>150000000</td>\n",
       "      <td>1513528810</td>\n",
       "      <td>Jurassic World</td>\n",
       "      <td>Chris Pratt|Bryce Dallas Howard|Irrfan Khan|Vi...</td>\n",
       "      <td>http://www.jurassicworld.com/</td>\n",
       "      <td>Colin Trevorrow</td>\n",
       "      <td>The park is open.</td>\n",
       "      <td>...</td>\n",
       "      <td>Twenty-two years after the events of Jurassic ...</td>\n",
       "      <td>124</td>\n",
       "      <td>Action|Adventure|Science Fiction|Thriller</td>\n",
       "      <td>Universal Studios|Amblin Entertainment|Legenda...</td>\n",
       "      <td>6/9/15</td>\n",
       "      <td>5562</td>\n",
       "      <td>6.50</td>\n",
       "      <td>2015</td>\n",
       "      <td>137999939.28</td>\n",
       "      <td>1392445892.52</td>\n",
       "    </tr>\n",
       "    <tr>\n",
       "      <th>1</th>\n",
       "      <td>76341</td>\n",
       "      <td>tt1392190</td>\n",
       "      <td>28.42</td>\n",
       "      <td>150000000</td>\n",
       "      <td>378436354</td>\n",
       "      <td>Mad Max: Fury Road</td>\n",
       "      <td>Tom Hardy|Charlize Theron|Hugh Keays-Byrne|Nic...</td>\n",
       "      <td>http://www.madmaxmovie.com/</td>\n",
       "      <td>George Miller</td>\n",
       "      <td>What a Lovely Day.</td>\n",
       "      <td>...</td>\n",
       "      <td>An apocalyptic story set in the furthest reach...</td>\n",
       "      <td>120</td>\n",
       "      <td>Action|Adventure|Science Fiction|Thriller</td>\n",
       "      <td>Village Roadshow Pictures|Kennedy Miller Produ...</td>\n",
       "      <td>5/13/15</td>\n",
       "      <td>6185</td>\n",
       "      <td>7.10</td>\n",
       "      <td>2015</td>\n",
       "      <td>137999939.28</td>\n",
       "      <td>348161292.49</td>\n",
       "    </tr>\n",
       "    <tr>\n",
       "      <th>2</th>\n",
       "      <td>262500</td>\n",
       "      <td>tt2908446</td>\n",
       "      <td>13.11</td>\n",
       "      <td>110000000</td>\n",
       "      <td>295238201</td>\n",
       "      <td>Insurgent</td>\n",
       "      <td>Shailene Woodley|Theo James|Kate Winslet|Ansel...</td>\n",
       "      <td>http://www.thedivergentseries.movie/#insurgent</td>\n",
       "      <td>Robert Schwentke</td>\n",
       "      <td>One Choice Can Destroy You</td>\n",
       "      <td>...</td>\n",
       "      <td>Beatrice Prior must confront her inner demons ...</td>\n",
       "      <td>119</td>\n",
       "      <td>Adventure|Science Fiction|Thriller</td>\n",
       "      <td>Summit Entertainment|Mandeville Films|Red Wago...</td>\n",
       "      <td>3/18/15</td>\n",
       "      <td>2480</td>\n",
       "      <td>6.30</td>\n",
       "      <td>2015</td>\n",
       "      <td>101199955.47</td>\n",
       "      <td>271619025.41</td>\n",
       "    </tr>\n",
       "    <tr>\n",
       "      <th>3</th>\n",
       "      <td>140607</td>\n",
       "      <td>tt2488496</td>\n",
       "      <td>11.17</td>\n",
       "      <td>200000000</td>\n",
       "      <td>2068178225</td>\n",
       "      <td>Star Wars: The Force Awakens</td>\n",
       "      <td>Harrison Ford|Mark Hamill|Carrie Fisher|Adam D...</td>\n",
       "      <td>http://www.starwars.com/films/star-wars-episod...</td>\n",
       "      <td>J.J. Abrams</td>\n",
       "      <td>Every generation has a story.</td>\n",
       "      <td>...</td>\n",
       "      <td>Thirty years after defeating the Galactic Empi...</td>\n",
       "      <td>136</td>\n",
       "      <td>Action|Adventure|Science Fiction|Fantasy</td>\n",
       "      <td>Lucasfilm|Truenorth Productions|Bad Robot</td>\n",
       "      <td>12/15/15</td>\n",
       "      <td>5292</td>\n",
       "      <td>7.50</td>\n",
       "      <td>2015</td>\n",
       "      <td>183999919.04</td>\n",
       "      <td>1902723129.80</td>\n",
       "    </tr>\n",
       "    <tr>\n",
       "      <th>4</th>\n",
       "      <td>168259</td>\n",
       "      <td>tt2820852</td>\n",
       "      <td>9.34</td>\n",
       "      <td>190000000</td>\n",
       "      <td>1506249360</td>\n",
       "      <td>Furious 7</td>\n",
       "      <td>Vin Diesel|Paul Walker|Jason Statham|Michelle ...</td>\n",
       "      <td>http://www.furious7.com/</td>\n",
       "      <td>James Wan</td>\n",
       "      <td>Vengeance Hits Home</td>\n",
       "      <td>...</td>\n",
       "      <td>Deckard Shaw seeks revenge against Dominic Tor...</td>\n",
       "      <td>137</td>\n",
       "      <td>Action|Crime|Thriller</td>\n",
       "      <td>Universal Pictures|Original Film|Media Rights ...</td>\n",
       "      <td>4/1/15</td>\n",
       "      <td>2947</td>\n",
       "      <td>7.30</td>\n",
       "      <td>2015</td>\n",
       "      <td>174799923.09</td>\n",
       "      <td>1385748801.47</td>\n",
       "    </tr>\n",
       "  </tbody>\n",
       "</table>\n",
       "<p>5 rows × 21 columns</p>\n",
       "</div>"
      ],
      "text/plain": [
       "       id    imdb_id  popularity     budget     revenue  \\\n",
       "0  135397  tt0369610       32.99  150000000  1513528810   \n",
       "1   76341  tt1392190       28.42  150000000   378436354   \n",
       "2  262500  tt2908446       13.11  110000000   295238201   \n",
       "3  140607  tt2488496       11.17  200000000  2068178225   \n",
       "4  168259  tt2820852        9.34  190000000  1506249360   \n",
       "\n",
       "                 original_title  \\\n",
       "0                Jurassic World   \n",
       "1            Mad Max: Fury Road   \n",
       "2                     Insurgent   \n",
       "3  Star Wars: The Force Awakens   \n",
       "4                     Furious 7   \n",
       "\n",
       "                                                cast  \\\n",
       "0  Chris Pratt|Bryce Dallas Howard|Irrfan Khan|Vi...   \n",
       "1  Tom Hardy|Charlize Theron|Hugh Keays-Byrne|Nic...   \n",
       "2  Shailene Woodley|Theo James|Kate Winslet|Ansel...   \n",
       "3  Harrison Ford|Mark Hamill|Carrie Fisher|Adam D...   \n",
       "4  Vin Diesel|Paul Walker|Jason Statham|Michelle ...   \n",
       "\n",
       "                                            homepage          director  \\\n",
       "0                      http://www.jurassicworld.com/   Colin Trevorrow   \n",
       "1                        http://www.madmaxmovie.com/     George Miller   \n",
       "2     http://www.thedivergentseries.movie/#insurgent  Robert Schwentke   \n",
       "3  http://www.starwars.com/films/star-wars-episod...       J.J. Abrams   \n",
       "4                           http://www.furious7.com/         James Wan   \n",
       "\n",
       "                         tagline  ...  \\\n",
       "0              The park is open.  ...   \n",
       "1             What a Lovely Day.  ...   \n",
       "2     One Choice Can Destroy You  ...   \n",
       "3  Every generation has a story.  ...   \n",
       "4            Vengeance Hits Home  ...   \n",
       "\n",
       "                                            overview runtime  \\\n",
       "0  Twenty-two years after the events of Jurassic ...     124   \n",
       "1  An apocalyptic story set in the furthest reach...     120   \n",
       "2  Beatrice Prior must confront her inner demons ...     119   \n",
       "3  Thirty years after defeating the Galactic Empi...     136   \n",
       "4  Deckard Shaw seeks revenge against Dominic Tor...     137   \n",
       "\n",
       "                                      genres  \\\n",
       "0  Action|Adventure|Science Fiction|Thriller   \n",
       "1  Action|Adventure|Science Fiction|Thriller   \n",
       "2         Adventure|Science Fiction|Thriller   \n",
       "3   Action|Adventure|Science Fiction|Fantasy   \n",
       "4                      Action|Crime|Thriller   \n",
       "\n",
       "                                production_companies release_date vote_count  \\\n",
       "0  Universal Studios|Amblin Entertainment|Legenda...       6/9/15       5562   \n",
       "1  Village Roadshow Pictures|Kennedy Miller Produ...      5/13/15       6185   \n",
       "2  Summit Entertainment|Mandeville Films|Red Wago...      3/18/15       2480   \n",
       "3          Lucasfilm|Truenorth Productions|Bad Robot     12/15/15       5292   \n",
       "4  Universal Pictures|Original Film|Media Rights ...       4/1/15       2947   \n",
       "\n",
       "   vote_average  release_year   budget_adj   revenue_adj  \n",
       "0          6.50          2015 137999939.28 1392445892.52  \n",
       "1          7.10          2015 137999939.28  348161292.49  \n",
       "2          6.30          2015 101199955.47  271619025.41  \n",
       "3          7.50          2015 183999919.04 1902723129.80  \n",
       "4          7.30          2015 174799923.09 1385748801.47  \n",
       "\n",
       "[5 rows x 21 columns]"
      ]
     },
     "execution_count": 784,
     "metadata": {},
     "output_type": "execute_result"
    }
   ],
   "source": [
    "#loading the file and assign it to a variable df\n",
    "df=pd.read_csv('tmdb-movies.csv')\n",
    "#Having a look at the first 5 lines of the dataset\n",
    "df.head()"
   ]
  },
  {
   "cell_type": "code",
   "execution_count": 785,
   "metadata": {},
   "outputs": [
    {
     "name": "stdout",
     "output_type": "stream",
     "text": [
      "This dataset has 10866 columns and 21 rows.\n"
     ]
    }
   ],
   "source": [
    "#lets check the total columns and rows. \n",
    "print('This dataset has '+str(df.shape[0])+' columns and '+str(df.shape[1])+' rows.')"
   ]
  },
  {
   "cell_type": "code",
   "execution_count": 786,
   "metadata": {},
   "outputs": [
    {
     "data": {
      "image/png": "[encoded data removed]",
      "text/plain": [
       "<Figure size 1080x1080 with 12 Axes>"
      ]
     },
     "metadata": {
      "needs_background": "light"
     },
     "output_type": "display_data"
    }
   ],
   "source": [
    "df.hist(figsize=(15,15));"
   ]
  },
  {
   "cell_type": "code",
   "execution_count": 787,
   "metadata": {},
   "outputs": [
    {
     "data": {
      "text/html": [
       "<div>\n",
       "<style scoped>\n",
       "    .dataframe tbody tr th:only-of-type {\n",
       "        vertical-align: middle;\n",
       "    }\n",
       "\n",
       "    .dataframe tbody tr th {\n",
       "        vertical-align: top;\n",
       "    }\n",
       "\n",
       "    .dataframe thead th {\n",
       "        text-align: right;\n",
       "    }\n",
       "</style>\n",
       "<table border=\"1\" class=\"dataframe\">\n",
       "  <thead>\n",
       "    <tr style=\"text-align: right;\">\n",
       "      <th></th>\n",
       "      <th>id</th>\n",
       "      <th>popularity</th>\n",
       "      <th>budget</th>\n",
       "      <th>revenue</th>\n",
       "      <th>runtime</th>\n",
       "      <th>vote_count</th>\n",
       "      <th>vote_average</th>\n",
       "      <th>release_year</th>\n",
       "      <th>budget_adj</th>\n",
       "      <th>revenue_adj</th>\n",
       "    </tr>\n",
       "  </thead>\n",
       "  <tbody>\n",
       "    <tr>\n",
       "      <th>count</th>\n",
       "      <td>10866.00</td>\n",
       "      <td>10866.00</td>\n",
       "      <td>10866.00</td>\n",
       "      <td>10866.00</td>\n",
       "      <td>10866.00</td>\n",
       "      <td>10866.00</td>\n",
       "      <td>10866.00</td>\n",
       "      <td>10866.00</td>\n",
       "      <td>10866.00</td>\n",
       "      <td>10866.00</td>\n",
       "    </tr>\n",
       "    <tr>\n",
       "      <th>mean</th>\n",
       "      <td>66064.18</td>\n",
       "      <td>0.65</td>\n",
       "      <td>14625701.09</td>\n",
       "      <td>39823319.79</td>\n",
       "      <td>102.07</td>\n",
       "      <td>217.39</td>\n",
       "      <td>5.97</td>\n",
       "      <td>2001.32</td>\n",
       "      <td>17551039.82</td>\n",
       "      <td>51364363.25</td>\n",
       "    </tr>\n",
       "    <tr>\n",
       "      <th>std</th>\n",
       "      <td>92130.14</td>\n",
       "      <td>1.00</td>\n",
       "      <td>30913213.83</td>\n",
       "      <td>117003486.58</td>\n",
       "      <td>31.38</td>\n",
       "      <td>575.62</td>\n",
       "      <td>0.94</td>\n",
       "      <td>12.81</td>\n",
       "      <td>34306155.72</td>\n",
       "      <td>144632485.04</td>\n",
       "    </tr>\n",
       "    <tr>\n",
       "      <th>min</th>\n",
       "      <td>5.00</td>\n",
       "      <td>0.00</td>\n",
       "      <td>0.00</td>\n",
       "      <td>0.00</td>\n",
       "      <td>0.00</td>\n",
       "      <td>10.00</td>\n",
       "      <td>1.50</td>\n",
       "      <td>1960.00</td>\n",
       "      <td>0.00</td>\n",
       "      <td>0.00</td>\n",
       "    </tr>\n",
       "    <tr>\n",
       "      <th>25%</th>\n",
       "      <td>10596.25</td>\n",
       "      <td>0.21</td>\n",
       "      <td>0.00</td>\n",
       "      <td>0.00</td>\n",
       "      <td>90.00</td>\n",
       "      <td>17.00</td>\n",
       "      <td>5.40</td>\n",
       "      <td>1995.00</td>\n",
       "      <td>0.00</td>\n",
       "      <td>0.00</td>\n",
       "    </tr>\n",
       "    <tr>\n",
       "      <th>50%</th>\n",
       "      <td>20669.00</td>\n",
       "      <td>0.38</td>\n",
       "      <td>0.00</td>\n",
       "      <td>0.00</td>\n",
       "      <td>99.00</td>\n",
       "      <td>38.00</td>\n",
       "      <td>6.00</td>\n",
       "      <td>2006.00</td>\n",
       "      <td>0.00</td>\n",
       "      <td>0.00</td>\n",
       "    </tr>\n",
       "    <tr>\n",
       "      <th>75%</th>\n",
       "      <td>75610.00</td>\n",
       "      <td>0.71</td>\n",
       "      <td>15000000.00</td>\n",
       "      <td>24000000.00</td>\n",
       "      <td>111.00</td>\n",
       "      <td>145.75</td>\n",
       "      <td>6.60</td>\n",
       "      <td>2011.00</td>\n",
       "      <td>20853251.08</td>\n",
       "      <td>33697095.72</td>\n",
       "    </tr>\n",
       "    <tr>\n",
       "      <th>max</th>\n",
       "      <td>417859.00</td>\n",
       "      <td>32.99</td>\n",
       "      <td>425000000.00</td>\n",
       "      <td>2781505847.00</td>\n",
       "      <td>900.00</td>\n",
       "      <td>9767.00</td>\n",
       "      <td>9.20</td>\n",
       "      <td>2015.00</td>\n",
       "      <td>425000000.00</td>\n",
       "      <td>2827123750.41</td>\n",
       "    </tr>\n",
       "  </tbody>\n",
       "</table>\n",
       "</div>"
      ],
      "text/plain": [
       "             id  popularity       budget       revenue  runtime  vote_count  \\\n",
       "count  10866.00    10866.00     10866.00      10866.00 10866.00    10866.00   \n",
       "mean   66064.18        0.65  14625701.09   39823319.79   102.07      217.39   \n",
       "std    92130.14        1.00  30913213.83  117003486.58    31.38      575.62   \n",
       "min        5.00        0.00         0.00          0.00     0.00       10.00   \n",
       "25%    10596.25        0.21         0.00          0.00    90.00       17.00   \n",
       "50%    20669.00        0.38         0.00          0.00    99.00       38.00   \n",
       "75%    75610.00        0.71  15000000.00   24000000.00   111.00      145.75   \n",
       "max   417859.00       32.99 425000000.00 2781505847.00   900.00     9767.00   \n",
       "\n",
       "       vote_average  release_year   budget_adj   revenue_adj  \n",
       "count      10866.00      10866.00     10866.00      10866.00  \n",
       "mean           5.97       2001.32  17551039.82   51364363.25  \n",
       "std            0.94         12.81  34306155.72  144632485.04  \n",
       "min            1.50       1960.00         0.00          0.00  \n",
       "25%            5.40       1995.00         0.00          0.00  \n",
       "50%            6.00       2006.00         0.00          0.00  \n",
       "75%            6.60       2011.00  20853251.08   33697095.72  \n",
       "max            9.20       2015.00 425000000.00 2827123750.41  "
      ]
     },
     "execution_count": 787,
     "metadata": {},
     "output_type": "execute_result"
    }
   ],
   "source": [
    "#general properties\n",
    "df.describe()"
   ]
  },
  {
   "cell_type": "code",
   "execution_count": 788,
   "metadata": {},
   "outputs": [
    {
     "name": "stdout",
     "output_type": "stream",
     "text": [
      "<class 'pandas.core.frame.DataFrame'>\n",
      "RangeIndex: 10866 entries, 0 to 10865\n",
      "Data columns (total 21 columns):\n",
      " #   Column                Non-Null Count  Dtype  \n",
      "---  ------                --------------  -----  \n",
      " 0   id                    10866 non-null  int64  \n",
      " 1   imdb_id               10856 non-null  object \n",
      " 2   popularity            10866 non-null  float64\n",
      " 3   budget                10866 non-null  int64  \n",
      " 4   revenue               10866 non-null  int64  \n",
      " 5   original_title        10866 non-null  object \n",
      " 6   cast                  10790 non-null  object \n",
      " 7   homepage              2936 non-null   object \n",
      " 8   director              10822 non-null  object \n",
      " 9   tagline               8042 non-null   object \n",
      " 10  keywords              9373 non-null   object \n",
      " 11  overview              10862 non-null  object \n",
      " 12  runtime               10866 non-null  int64  \n",
      " 13  genres                10843 non-null  object \n",
      " 14  production_companies  9836 non-null   object \n",
      " 15  release_date          10866 non-null  object \n",
      " 16  vote_count            10866 non-null  int64  \n",
      " 17  vote_average          10866 non-null  float64\n",
      " 18  release_year          10866 non-null  int64  \n",
      " 19  budget_adj            10866 non-null  float64\n",
      " 20  revenue_adj           10866 non-null  float64\n",
      "dtypes: float64(4), int64(6), object(11)\n",
      "memory usage: 1.7+ MB\n"
     ]
    }
   ],
   "source": [
    "#general properties\n",
    "df.info()"
   ]
  },
  {
   "cell_type": "code",
   "execution_count": 789,
   "metadata": {},
   "outputs": [
    {
     "data": {
      "text/plain": [
       "id                         0\n",
       "imdb_id                   10\n",
       "popularity                 0\n",
       "budget                     0\n",
       "revenue                    0\n",
       "original_title             0\n",
       "cast                      76\n",
       "homepage                7930\n",
       "director                  44\n",
       "tagline                 2824\n",
       "keywords                1493\n",
       "overview                   4\n",
       "runtime                    0\n",
       "genres                    23\n",
       "production_companies    1030\n",
       "release_date               0\n",
       "vote_count                 0\n",
       "vote_average               0\n",
       "release_year               0\n",
       "budget_adj                 0\n",
       "revenue_adj                0\n",
       "dtype: int64"
      ]
     },
     "execution_count": 789,
     "metadata": {},
     "output_type": "execute_result"
    }
   ],
   "source": [
    "#checking NaN values\n",
    "df.isnull().sum()"
   ]
  },
  {
   "cell_type": "code",
   "execution_count": 790,
   "metadata": {},
   "outputs": [
    {
     "data": {
      "text/plain": [
       "1"
      ]
     },
     "execution_count": 790,
     "metadata": {},
     "output_type": "execute_result"
    }
   ],
   "source": [
    "#checking duplicacy\n",
    "df.duplicated().sum()"
   ]
  },
  {
   "cell_type": "markdown",
   "metadata": {},
   "source": [
    "## Observation\n",
    "> * Some values are seperated by '|'\n",
    "> * Some rows have 0 value\n",
    "> * Some numbers are in scientific form\n",
    "> * There is duplicacy"
   ]
  },
  {
   "cell_type": "markdown",
   "metadata": {},
   "source": [
    "\n",
    "\n",
    "## Data Cleaning \n",
    "\n",
    "> * Drop duplicates\n",
    "> * Change scientific number\n",
    "> * Drop unnecessary columns\n",
    "> * Replace 0 wiith NAN then drop the null values"
   ]
  },
  {
   "cell_type": "markdown",
   "metadata": {},
   "source": [
    "> ### Dropping Duplicates"
   ]
  },
  {
   "cell_type": "code",
   "execution_count": 791,
   "metadata": {},
   "outputs": [],
   "source": [
    "#dropping duplicates\n",
    "df.drop_duplicates(inplace=True)"
   ]
  },
  {
   "cell_type": "code",
   "execution_count": 792,
   "metadata": {},
   "outputs": [
    {
     "data": {
      "text/plain": [
       "0"
      ]
     },
     "execution_count": 792,
     "metadata": {},
     "output_type": "execute_result"
    }
   ],
   "source": [
    "#checking for duplicates\n",
    "df.duplicated().sum()"
   ]
  },
  {
   "cell_type": "markdown",
   "metadata": {},
   "source": [
    "> ### changing scientific form to numeric form"
   ]
  },
  {
   "cell_type": "code",
   "execution_count": 793,
   "metadata": {},
   "outputs": [],
   "source": [
    "pd.options.display.float_format = '{:.2f}'.format"
   ]
  },
  {
   "cell_type": "code",
   "execution_count": 794,
   "metadata": {},
   "outputs": [
    {
     "data": {
      "text/html": [
       "<div>\n",
       "<style scoped>\n",
       "    .dataframe tbody tr th:only-of-type {\n",
       "        vertical-align: middle;\n",
       "    }\n",
       "\n",
       "    .dataframe tbody tr th {\n",
       "        vertical-align: top;\n",
       "    }\n",
       "\n",
       "    .dataframe thead th {\n",
       "        text-align: right;\n",
       "    }\n",
       "</style>\n",
       "<table border=\"1\" class=\"dataframe\">\n",
       "  <thead>\n",
       "    <tr style=\"text-align: right;\">\n",
       "      <th></th>\n",
       "      <th>id</th>\n",
       "      <th>popularity</th>\n",
       "      <th>budget</th>\n",
       "      <th>revenue</th>\n",
       "      <th>runtime</th>\n",
       "      <th>vote_count</th>\n",
       "      <th>vote_average</th>\n",
       "      <th>release_year</th>\n",
       "      <th>budget_adj</th>\n",
       "      <th>revenue_adj</th>\n",
       "    </tr>\n",
       "  </thead>\n",
       "  <tbody>\n",
       "    <tr>\n",
       "      <th>count</th>\n",
       "      <td>10865.00</td>\n",
       "      <td>10865.00</td>\n",
       "      <td>10865.00</td>\n",
       "      <td>10865.00</td>\n",
       "      <td>10865.00</td>\n",
       "      <td>10865.00</td>\n",
       "      <td>10865.00</td>\n",
       "      <td>10865.00</td>\n",
       "      <td>10865.00</td>\n",
       "      <td>10865.00</td>\n",
       "    </tr>\n",
       "    <tr>\n",
       "      <th>mean</th>\n",
       "      <td>66066.37</td>\n",
       "      <td>0.65</td>\n",
       "      <td>14624286.06</td>\n",
       "      <td>39826896.08</td>\n",
       "      <td>102.07</td>\n",
       "      <td>217.40</td>\n",
       "      <td>5.98</td>\n",
       "      <td>2001.32</td>\n",
       "      <td>17549894.04</td>\n",
       "      <td>51369001.76</td>\n",
       "    </tr>\n",
       "    <tr>\n",
       "      <th>std</th>\n",
       "      <td>92134.09</td>\n",
       "      <td>1.00</td>\n",
       "      <td>30914284.61</td>\n",
       "      <td>117008277.46</td>\n",
       "      <td>31.38</td>\n",
       "      <td>575.64</td>\n",
       "      <td>0.94</td>\n",
       "      <td>12.81</td>\n",
       "      <td>34307526.66</td>\n",
       "      <td>144638333.13</td>\n",
       "    </tr>\n",
       "    <tr>\n",
       "      <th>min</th>\n",
       "      <td>5.00</td>\n",
       "      <td>0.00</td>\n",
       "      <td>0.00</td>\n",
       "      <td>0.00</td>\n",
       "      <td>0.00</td>\n",
       "      <td>10.00</td>\n",
       "      <td>1.50</td>\n",
       "      <td>1960.00</td>\n",
       "      <td>0.00</td>\n",
       "      <td>0.00</td>\n",
       "    </tr>\n",
       "    <tr>\n",
       "      <th>25%</th>\n",
       "      <td>10596.00</td>\n",
       "      <td>0.21</td>\n",
       "      <td>0.00</td>\n",
       "      <td>0.00</td>\n",
       "      <td>90.00</td>\n",
       "      <td>17.00</td>\n",
       "      <td>5.40</td>\n",
       "      <td>1995.00</td>\n",
       "      <td>0.00</td>\n",
       "      <td>0.00</td>\n",
       "    </tr>\n",
       "    <tr>\n",
       "      <th>50%</th>\n",
       "      <td>20662.00</td>\n",
       "      <td>0.38</td>\n",
       "      <td>0.00</td>\n",
       "      <td>0.00</td>\n",
       "      <td>99.00</td>\n",
       "      <td>38.00</td>\n",
       "      <td>6.00</td>\n",
       "      <td>2006.00</td>\n",
       "      <td>0.00</td>\n",
       "      <td>0.00</td>\n",
       "    </tr>\n",
       "    <tr>\n",
       "      <th>75%</th>\n",
       "      <td>75612.00</td>\n",
       "      <td>0.71</td>\n",
       "      <td>15000000.00</td>\n",
       "      <td>24000000.00</td>\n",
       "      <td>111.00</td>\n",
       "      <td>146.00</td>\n",
       "      <td>6.60</td>\n",
       "      <td>2011.00</td>\n",
       "      <td>20853251.08</td>\n",
       "      <td>33701729.01</td>\n",
       "    </tr>\n",
       "    <tr>\n",
       "      <th>max</th>\n",
       "      <td>417859.00</td>\n",
       "      <td>32.99</td>\n",
       "      <td>425000000.00</td>\n",
       "      <td>2781505847.00</td>\n",
       "      <td>900.00</td>\n",
       "      <td>9767.00</td>\n",
       "      <td>9.20</td>\n",
       "      <td>2015.00</td>\n",
       "      <td>425000000.00</td>\n",
       "      <td>2827123750.41</td>\n",
       "    </tr>\n",
       "  </tbody>\n",
       "</table>\n",
       "</div>"
      ],
      "text/plain": [
       "             id  popularity       budget       revenue  runtime  vote_count  \\\n",
       "count  10865.00    10865.00     10865.00      10865.00 10865.00    10865.00   \n",
       "mean   66066.37        0.65  14624286.06   39826896.08   102.07      217.40   \n",
       "std    92134.09        1.00  30914284.61  117008277.46    31.38      575.64   \n",
       "min        5.00        0.00         0.00          0.00     0.00       10.00   \n",
       "25%    10596.00        0.21         0.00          0.00    90.00       17.00   \n",
       "50%    20662.00        0.38         0.00          0.00    99.00       38.00   \n",
       "75%    75612.00        0.71  15000000.00   24000000.00   111.00      146.00   \n",
       "max   417859.00       32.99 425000000.00 2781505847.00   900.00     9767.00   \n",
       "\n",
       "       vote_average  release_year   budget_adj   revenue_adj  \n",
       "count      10865.00      10865.00     10865.00      10865.00  \n",
       "mean           5.98       2001.32  17549894.04   51369001.76  \n",
       "std            0.94         12.81  34307526.66  144638333.13  \n",
       "min            1.50       1960.00         0.00          0.00  \n",
       "25%            5.40       1995.00         0.00          0.00  \n",
       "50%            6.00       2006.00         0.00          0.00  \n",
       "75%            6.60       2011.00  20853251.08   33701729.01  \n",
       "max            9.20       2015.00 425000000.00 2827123750.41  "
      ]
     },
     "execution_count": 794,
     "metadata": {},
     "output_type": "execute_result"
    }
   ],
   "source": [
    "#checking the change\n",
    "df.describe()"
   ]
  },
  {
   "cell_type": "markdown",
   "metadata": {},
   "source": [
    "> ### Drop unnecessary columns"
   ]
  },
  {
   "cell_type": "code",
   "execution_count": 795,
   "metadata": {},
   "outputs": [],
   "source": [
    "#Dropping columns\n",
    "df.drop(['budget_adj', 'revenue_adj', 'homepage', 'keywords', 'overview','release_date'],axis=1,inplace=True)"
   ]
  },
  {
   "cell_type": "code",
   "execution_count": 796,
   "metadata": {},
   "outputs": [
    {
     "data": {
      "text/plain": [
       "(10865, 15)"
      ]
     },
     "execution_count": 796,
     "metadata": {},
     "output_type": "execute_result"
    }
   ],
   "source": [
    "#Checking for dropping columns\n",
    "df.shape"
   ]
  },
  {
   "cell_type": "markdown",
   "metadata": {},
   "source": [
    "> ## Replace 0 with NaN,then drop null values"
   ]
  },
  {
   "cell_type": "code",
   "execution_count": 797,
   "metadata": {},
   "outputs": [],
   "source": [
    "#Columns need to be changed\n",
    "drop_null=['revenue','budget','runtime']"
   ]
  },
  {
   "cell_type": "code",
   "execution_count": 798,
   "metadata": {},
   "outputs": [],
   "source": [
    "#Replace 0 with NAN\n",
    "df[drop_null]=df[drop_null].replace(0, np.NAN)\n",
    "#drop NAN values\n",
    "df.dropna(axis=0, inplace=True)"
   ]
  },
  {
   "cell_type": "code",
   "execution_count": 799,
   "metadata": {},
   "outputs": [
    {
     "data": {
      "text/plain": [
       "id                      0\n",
       "imdb_id                 0\n",
       "popularity              0\n",
       "budget                  0\n",
       "revenue                 0\n",
       "original_title          0\n",
       "cast                    0\n",
       "director                0\n",
       "tagline                 0\n",
       "runtime                 0\n",
       "genres                  0\n",
       "production_companies    0\n",
       "vote_count              0\n",
       "vote_average            0\n",
       "release_year            0\n",
       "dtype: int64"
      ]
     },
     "execution_count": 799,
     "metadata": {},
     "output_type": "execute_result"
    }
   ],
   "source": [
    "#for checking null values\n",
    "df.isnull().sum()"
   ]
  },
  {
   "cell_type": "markdown",
   "metadata": {},
   "source": [
    "<a id='eda'></a>\n",
    "## Exploratory Data Analysis\n",
    "\n",
    "\n",
    "\n",
    "> ### Research Question 1 : How the amount of film production have changed over the years?"
   ]
  },
  {
   "cell_type": "code",
   "execution_count": 800,
   "metadata": {},
   "outputs": [
    {
     "data": {
      "text/plain": [
       "count    56.00\n",
       "mean     63.29\n",
       "std      56.96\n",
       "min       4.00\n",
       "25%      11.75\n",
       "50%      45.00\n",
       "75%     111.00\n",
       "max     180.00\n",
       "Name: id, dtype: float64"
      ]
     },
     "execution_count": 800,
     "metadata": {},
     "output_type": "execute_result"
    }
   ],
   "source": [
    "#for the range of xsticks,ysticks\n",
    "df.groupby('release_year')['id'].count().describe()"
   ]
  },
  {
   "cell_type": "code",
   "execution_count": 801,
   "metadata": {},
   "outputs": [
    {
     "data": {
      "text/plain": [
       "([<matplotlib.axis.XTick at 0xa3e6ea2288>,\n",
       "  <matplotlib.axis.XTick at 0xa3e5710948>,\n",
       "  <matplotlib.axis.XTick at 0xa3e6ed68c8>,\n",
       "  <matplotlib.axis.XTick at 0xa3e69922c8>,\n",
       "  <matplotlib.axis.XTick at 0xa3e69953c8>,\n",
       "  <matplotlib.axis.XTick at 0xa3e6995488>,\n",
       "  <matplotlib.axis.XTick at 0xa3e6996248>,\n",
       "  <matplotlib.axis.XTick at 0xa3e6996808>,\n",
       "  <matplotlib.axis.XTick at 0xa3daad4588>,\n",
       "  <matplotlib.axis.XTick at 0xa3e69a7788>,\n",
       "  <matplotlib.axis.XTick at 0xa3e69b3b88>,\n",
       "  <matplotlib.axis.XTick at 0xa3e69ba448>],\n",
       " <a list of 12 Text xticklabel objects>)"
      ]
     },
     "execution_count": 801,
     "metadata": {},
     "output_type": "execute_result"
    },
    {
     "data": {
      "image/png": "[encoded data removed]",
      "text/plain": [
       "<Figure size 1080x504 with 1 Axes>"
      ]
     },
     "metadata": {
      "needs_background": "light"
     },
     "output_type": "display_data"
    }
   ],
   "source": [
    "df.groupby('release_year')['id'].count().plot(kind='line',alpha=.8,figsize=(15,7))\n",
    "#fon x axis\n",
    "plt.xlabel('Release_Year',fontsize=18)\n",
    "#fon y axis\n",
    "plt.ylabel('Amount_Of_movies',fontsize=18)\n",
    "plt.title('Amount Of Movies Vs Release Year',fontsize=20)\n",
    "plt.yticks(np.arange(0,190,10))\n",
    "plt.xticks(np.arange(1960,2020,5))\n"
   ]
  },
  {
   "cell_type": "markdown",
   "metadata": {},
   "source": [
    "> ### Research Question 2 : How Total profit have changed over the years?\n"
   ]
  },
  {
   "cell_type": "code",
   "execution_count": 802,
   "metadata": {},
   "outputs": [],
   "source": [
    "#let's insert a new column called 'profit'.\n",
    "#profit=revenue-budget\n",
    "\n",
    "df.insert(5,'profit',df['revenue']-df['budget'])"
   ]
  },
  {
   "cell_type": "code",
   "execution_count": 803,
   "metadata": {},
   "outputs": [
    {
     "data": {
      "text/html": [
       "<div>\n",
       "<style scoped>\n",
       "    .dataframe tbody tr th:only-of-type {\n",
       "        vertical-align: middle;\n",
       "    }\n",
       "\n",
       "    .dataframe tbody tr th {\n",
       "        vertical-align: top;\n",
       "    }\n",
       "\n",
       "    .dataframe thead th {\n",
       "        text-align: right;\n",
       "    }\n",
       "</style>\n",
       "<table border=\"1\" class=\"dataframe\">\n",
       "  <thead>\n",
       "    <tr style=\"text-align: right;\">\n",
       "      <th></th>\n",
       "      <th>id</th>\n",
       "      <th>imdb_id</th>\n",
       "      <th>popularity</th>\n",
       "      <th>budget</th>\n",
       "      <th>revenue</th>\n",
       "      <th>profit</th>\n",
       "      <th>original_title</th>\n",
       "      <th>cast</th>\n",
       "      <th>director</th>\n",
       "      <th>tagline</th>\n",
       "      <th>runtime</th>\n",
       "      <th>genres</th>\n",
       "      <th>production_companies</th>\n",
       "      <th>vote_count</th>\n",
       "      <th>vote_average</th>\n",
       "      <th>release_year</th>\n",
       "    </tr>\n",
       "  </thead>\n",
       "  <tbody>\n",
       "    <tr>\n",
       "      <th>0</th>\n",
       "      <td>135397</td>\n",
       "      <td>tt0369610</td>\n",
       "      <td>32.99</td>\n",
       "      <td>150000000.00</td>\n",
       "      <td>1513528810.00</td>\n",
       "      <td>1363528810.00</td>\n",
       "      <td>Jurassic World</td>\n",
       "      <td>Chris Pratt|Bryce Dallas Howard|Irrfan Khan|Vi...</td>\n",
       "      <td>Colin Trevorrow</td>\n",
       "      <td>The park is open.</td>\n",
       "      <td>124.00</td>\n",
       "      <td>Action|Adventure|Science Fiction|Thriller</td>\n",
       "      <td>Universal Studios|Amblin Entertainment|Legenda...</td>\n",
       "      <td>5562</td>\n",
       "      <td>6.50</td>\n",
       "      <td>2015</td>\n",
       "    </tr>\n",
       "    <tr>\n",
       "      <th>1</th>\n",
       "      <td>76341</td>\n",
       "      <td>tt1392190</td>\n",
       "      <td>28.42</td>\n",
       "      <td>150000000.00</td>\n",
       "      <td>378436354.00</td>\n",
       "      <td>228436354.00</td>\n",
       "      <td>Mad Max: Fury Road</td>\n",
       "      <td>Tom Hardy|Charlize Theron|Hugh Keays-Byrne|Nic...</td>\n",
       "      <td>George Miller</td>\n",
       "      <td>What a Lovely Day.</td>\n",
       "      <td>120.00</td>\n",
       "      <td>Action|Adventure|Science Fiction|Thriller</td>\n",
       "      <td>Village Roadshow Pictures|Kennedy Miller Produ...</td>\n",
       "      <td>6185</td>\n",
       "      <td>7.10</td>\n",
       "      <td>2015</td>\n",
       "    </tr>\n",
       "  </tbody>\n",
       "</table>\n",
       "</div>"
      ],
      "text/plain": [
       "       id    imdb_id  popularity       budget       revenue        profit  \\\n",
       "0  135397  tt0369610       32.99 150000000.00 1513528810.00 1363528810.00   \n",
       "1   76341  tt1392190       28.42 150000000.00  378436354.00  228436354.00   \n",
       "\n",
       "       original_title                                               cast  \\\n",
       "0      Jurassic World  Chris Pratt|Bryce Dallas Howard|Irrfan Khan|Vi...   \n",
       "1  Mad Max: Fury Road  Tom Hardy|Charlize Theron|Hugh Keays-Byrne|Nic...   \n",
       "\n",
       "          director             tagline  runtime  \\\n",
       "0  Colin Trevorrow   The park is open.   124.00   \n",
       "1    George Miller  What a Lovely Day.   120.00   \n",
       "\n",
       "                                      genres  \\\n",
       "0  Action|Adventure|Science Fiction|Thriller   \n",
       "1  Action|Adventure|Science Fiction|Thriller   \n",
       "\n",
       "                                production_companies  vote_count  \\\n",
       "0  Universal Studios|Amblin Entertainment|Legenda...        5562   \n",
       "1  Village Roadshow Pictures|Kennedy Miller Produ...        6185   \n",
       "\n",
       "   vote_average  release_year  \n",
       "0          6.50          2015  \n",
       "1          7.10          2015  "
      ]
     },
     "execution_count": 803,
     "metadata": {},
     "output_type": "execute_result"
    }
   ],
   "source": [
    "#checking the inserted column profit\n",
    "df.head(2)"
   ]
  },
  {
   "cell_type": "code",
   "execution_count": 804,
   "metadata": {},
   "outputs": [
    {
     "data": {
      "text/plain": [
       "count            56.00\n",
       "mean     4790842824.25\n",
       "std      5215530164.80\n",
       "min        52468689.00\n",
       "25%       618145179.50\n",
       "50%      2209064361.00\n",
       "75%      8140051696.50\n",
       "max     18919334715.00\n",
       "Name: profit, dtype: float64"
      ]
     },
     "execution_count": 804,
     "metadata": {},
     "output_type": "execute_result"
    }
   ],
   "source": [
    "#for the range of xsticks,ysticks\n",
    "df.groupby('release_year')['profit'].sum().describe()"
   ]
  },
  {
   "cell_type": "code",
   "execution_count": 805,
   "metadata": {},
   "outputs": [
    {
     "data": {
      "text/plain": [
       "([<matplotlib.axis.XTick at 0xa3e6ed54c8>,\n",
       "  <matplotlib.axis.XTick at 0xa3e6c1e108>,\n",
       "  <matplotlib.axis.XTick at 0xa3e6c22c88>,\n",
       "  <matplotlib.axis.XTick at 0xa3e69d56c8>,\n",
       "  <matplotlib.axis.XTick at 0xa3e69d5a88>,\n",
       "  <matplotlib.axis.XTick at 0xa3e69da248>,\n",
       "  <matplotlib.axis.XTick at 0xa3e69dadc8>,\n",
       "  <matplotlib.axis.XTick at 0xa3e69d54c8>,\n",
       "  <matplotlib.axis.XTick at 0xa3e6c1cd08>,\n",
       "  <matplotlib.axis.XTick at 0xa3e6a05ac8>,\n",
       "  <matplotlib.axis.XTick at 0xa3e69fa5c8>,\n",
       "  <matplotlib.axis.XTick at 0xa3e6a09208>],\n",
       " <a list of 12 Text xticklabel objects>)"
      ]
     },
     "execution_count": 805,
     "metadata": {},
     "output_type": "execute_result"
    },
    {
     "data": {
      "image/png": "[encoded data removed]",
      "text/plain": [
       "<Figure size 1296x648 with 1 Axes>"
      ]
     },
     "metadata": {
      "needs_background": "light"
     },
     "output_type": "display_data"
    }
   ],
   "source": [
    "#plotting\n",
    "df.groupby('release_year')['profit'].sum().plot(kind='line',alpha=.8,figsize=(18,9))\n",
    "plt.xlabel('Release_Year',fontsize=18)\n",
    "plt.ylabel('Total_profit  (Crore)',fontsize=18)\n",
    "plt.title('Total Profit Vs Release Year',fontsize=20)\n",
    "plt.yticks(np.arange(52468689,18919334715,1000000000))\n",
    "plt.xticks(np.arange(1960,2020,5))\n"
   ]
  },
  {
   "cell_type": "markdown",
   "metadata": {},
   "source": [
    "> ### Research Question 3 : What properties are associated with movies that have the most popularity?"
   ]
  },
  {
   "cell_type": "code",
   "execution_count": 806,
   "metadata": {},
   "outputs": [
    {
     "data": {
      "text/plain": [
       "count   3544.00\n",
       "mean       1.25\n",
       "std        1.52\n",
       "min        0.01\n",
       "25%        0.50\n",
       "50%        0.86\n",
       "75%        1.44\n",
       "max       32.99\n",
       "Name: popularity, dtype: float64"
      ]
     },
     "execution_count": 806,
     "metadata": {},
     "output_type": "execute_result"
    }
   ],
   "source": [
    "df.popularity.describe()"
   ]
  },
  {
   "cell_type": "code",
   "execution_count": 807,
   "metadata": {},
   "outputs": [],
   "source": [
    "#creating a new column based on the popularity\n",
    "pop_range=[0.01,0.50,0.86,1.44,32.99]\n",
    "pop_level=['very_low','low','medium','high']\n",
    "df['popularity_level']=pd.cut(df['popularity'],pop_range,labels=pop_level)"
   ]
  },
  {
   "cell_type": "code",
   "execution_count": 808,
   "metadata": {},
   "outputs": [
    {
     "name": "stderr",
     "output_type": "stream",
     "text": [
      "C:\\Users\\Personal\\anaconda3\\lib\\site-packages\\ipykernel_launcher.py:2: FutureWarning: Indexing with multiple keys (implicitly converted to a tuple of keys) will be deprecated, use a list instead.\n",
      "  \n"
     ]
    },
    {
     "data": {
      "text/plain": [
       "Text(0.5, 1.0, 'Comparision Between Profit And Budget')"
      ]
     },
     "execution_count": 808,
     "metadata": {},
     "output_type": "execute_result"
    },
    {
     "data": {
      "image/png": "[encoded data removed]",
      "text/plain": [
       "<Figure size 1080x504 with 1 Axes>"
      ]
     },
     "metadata": {
      "needs_background": "light"
     },
     "output_type": "display_data"
    }
   ],
   "source": [
    "#plotting\n",
    "df.groupby('popularity_level')['profit','budget'].mean().plot(kind='bar',figsize=(15,7))\n",
    "plt.ylabel('Mean Profit \\n Mean Budget',fontsize=18)\n",
    "plt.xlabel('Popularity',fontsize=18)\n",
    "plt.title('Comparision Between Profit And Budget',fontsize=20)\n"
   ]
  },
  {
   "cell_type": "code",
   "execution_count": 809,
   "metadata": {},
   "outputs": [
    {
     "data": {
      "text/plain": [
       "Text(0.5, 1.0, 'Vote_Average Vs Popularity')"
      ]
     },
     "execution_count": 809,
     "metadata": {},
     "output_type": "execute_result"
    },
    {
     "data": {
      "image/png": "[encoded data removed]",
      "text/plain": [
       "<Figure size 1080x504 with 1 Axes>"
      ]
     },
     "metadata": {
      "needs_background": "light"
     },
     "output_type": "display_data"
    }
   ],
   "source": [
    "#plotting\n",
    "df.groupby('popularity_level')['vote_average'].mean().plot(kind='bar',figsize=(15,7))\n",
    "plt.ylabel('Vote_Average',fontsize=18)\n",
    "plt.xlabel('Popularity',fontsize=18)\n",
    "plt.title('Vote_Average Vs Popularity',fontsize=20)"
   ]
  },
  {
   "cell_type": "code",
   "execution_count": 810,
   "metadata": {},
   "outputs": [
    {
     "data": {
      "text/plain": [
       "Text(0.5, 1.0, 'Popularity Vs Runtime')"
      ]
     },
     "execution_count": 810,
     "metadata": {},
     "output_type": "execute_result"
    },
    {
     "data": {
      "image/png": "[encoded data removed]",
      "text/plain": [
       "<Figure size 1080x504 with 1 Axes>"
      ]
     },
     "metadata": {
      "needs_background": "light"
     },
     "output_type": "display_data"
    }
   ],
   "source": [
    "#plotting\n",
    "df.groupby('popularity_level')['runtime'].mean().plot(kind='bar',figsize=(15,7))\n",
    "plt.ylabel('Runtime',fontsize=18)\n",
    "plt.xlabel('Popularity',fontsize=18)\n",
    "plt.title('Popularity Vs Runtime',fontsize=20)"
   ]
  },
  {
   "cell_type": "markdown",
   "metadata": {},
   "source": [
    "> ### Research Question 4 : What properties are associated with movies that have high profitability?\n"
   ]
  },
  {
   "cell_type": "code",
   "execution_count": 811,
   "metadata": {},
   "outputs": [
    {
     "data": {
      "text/plain": [
       "count         3544.00\n",
       "mean      75701805.35\n",
       "std      155060492.01\n",
       "min     -413912431.00\n",
       "25%        -453814.25\n",
       "50%       23720477.00\n",
       "75%       90509863.25\n",
       "max     2544505847.00\n",
       "Name: profit, dtype: float64"
      ]
     },
     "execution_count": 811,
     "metadata": {},
     "output_type": "execute_result"
    }
   ],
   "source": [
    "df.profit.describe()"
   ]
  },
  {
   "cell_type": "code",
   "execution_count": 812,
   "metadata": {},
   "outputs": [],
   "source": [
    "#create new column based on profitability\n",
    "pro_range=[-413912431,-453814.25,23720477,90509863.25,2544505847]\n",
    "pro_level=['very_low','low','medium','high']\n",
    "df['profit_level']=pd.cut(df['profit'],pro_range,labels=pro_level)"
   ]
  },
  {
   "cell_type": "code",
   "execution_count": 813,
   "metadata": {},
   "outputs": [
    {
     "data": {
      "text/html": [
       "<div>\n",
       "<style scoped>\n",
       "    .dataframe tbody tr th:only-of-type {\n",
       "        vertical-align: middle;\n",
       "    }\n",
       "\n",
       "    .dataframe tbody tr th {\n",
       "        vertical-align: top;\n",
       "    }\n",
       "\n",
       "    .dataframe thead th {\n",
       "        text-align: right;\n",
       "    }\n",
       "</style>\n",
       "<table border=\"1\" class=\"dataframe\">\n",
       "  <thead>\n",
       "    <tr style=\"text-align: right;\">\n",
       "      <th></th>\n",
       "      <th>id</th>\n",
       "      <th>imdb_id</th>\n",
       "      <th>popularity</th>\n",
       "      <th>budget</th>\n",
       "      <th>revenue</th>\n",
       "      <th>profit</th>\n",
       "      <th>original_title</th>\n",
       "      <th>cast</th>\n",
       "      <th>director</th>\n",
       "      <th>tagline</th>\n",
       "      <th>runtime</th>\n",
       "      <th>genres</th>\n",
       "      <th>production_companies</th>\n",
       "      <th>vote_count</th>\n",
       "      <th>vote_average</th>\n",
       "      <th>release_year</th>\n",
       "      <th>popularity_level</th>\n",
       "      <th>profit_level</th>\n",
       "    </tr>\n",
       "  </thead>\n",
       "  <tbody>\n",
       "    <tr>\n",
       "      <th>0</th>\n",
       "      <td>135397</td>\n",
       "      <td>tt0369610</td>\n",
       "      <td>32.99</td>\n",
       "      <td>150000000.00</td>\n",
       "      <td>1513528810.00</td>\n",
       "      <td>1363528810.00</td>\n",
       "      <td>Jurassic World</td>\n",
       "      <td>Chris Pratt|Bryce Dallas Howard|Irrfan Khan|Vi...</td>\n",
       "      <td>Colin Trevorrow</td>\n",
       "      <td>The park is open.</td>\n",
       "      <td>124.00</td>\n",
       "      <td>Action|Adventure|Science Fiction|Thriller</td>\n",
       "      <td>Universal Studios|Amblin Entertainment|Legenda...</td>\n",
       "      <td>5562</td>\n",
       "      <td>6.50</td>\n",
       "      <td>2015</td>\n",
       "      <td>high</td>\n",
       "      <td>high</td>\n",
       "    </tr>\n",
       "    <tr>\n",
       "      <th>1</th>\n",
       "      <td>76341</td>\n",
       "      <td>tt1392190</td>\n",
       "      <td>28.42</td>\n",
       "      <td>150000000.00</td>\n",
       "      <td>378436354.00</td>\n",
       "      <td>228436354.00</td>\n",
       "      <td>Mad Max: Fury Road</td>\n",
       "      <td>Tom Hardy|Charlize Theron|Hugh Keays-Byrne|Nic...</td>\n",
       "      <td>George Miller</td>\n",
       "      <td>What a Lovely Day.</td>\n",
       "      <td>120.00</td>\n",
       "      <td>Action|Adventure|Science Fiction|Thriller</td>\n",
       "      <td>Village Roadshow Pictures|Kennedy Miller Produ...</td>\n",
       "      <td>6185</td>\n",
       "      <td>7.10</td>\n",
       "      <td>2015</td>\n",
       "      <td>high</td>\n",
       "      <td>high</td>\n",
       "    </tr>\n",
       "    <tr>\n",
       "      <th>2</th>\n",
       "      <td>262500</td>\n",
       "      <td>tt2908446</td>\n",
       "      <td>13.11</td>\n",
       "      <td>110000000.00</td>\n",
       "      <td>295238201.00</td>\n",
       "      <td>185238201.00</td>\n",
       "      <td>Insurgent</td>\n",
       "      <td>Shailene Woodley|Theo James|Kate Winslet|Ansel...</td>\n",
       "      <td>Robert Schwentke</td>\n",
       "      <td>One Choice Can Destroy You</td>\n",
       "      <td>119.00</td>\n",
       "      <td>Adventure|Science Fiction|Thriller</td>\n",
       "      <td>Summit Entertainment|Mandeville Films|Red Wago...</td>\n",
       "      <td>2480</td>\n",
       "      <td>6.30</td>\n",
       "      <td>2015</td>\n",
       "      <td>high</td>\n",
       "      <td>high</td>\n",
       "    </tr>\n",
       "    <tr>\n",
       "      <th>3</th>\n",
       "      <td>140607</td>\n",
       "      <td>tt2488496</td>\n",
       "      <td>11.17</td>\n",
       "      <td>200000000.00</td>\n",
       "      <td>2068178225.00</td>\n",
       "      <td>1868178225.00</td>\n",
       "      <td>Star Wars: The Force Awakens</td>\n",
       "      <td>Harrison Ford|Mark Hamill|Carrie Fisher|Adam D...</td>\n",
       "      <td>J.J. Abrams</td>\n",
       "      <td>Every generation has a story.</td>\n",
       "      <td>136.00</td>\n",
       "      <td>Action|Adventure|Science Fiction|Fantasy</td>\n",
       "      <td>Lucasfilm|Truenorth Productions|Bad Robot</td>\n",
       "      <td>5292</td>\n",
       "      <td>7.50</td>\n",
       "      <td>2015</td>\n",
       "      <td>high</td>\n",
       "      <td>high</td>\n",
       "    </tr>\n",
       "    <tr>\n",
       "      <th>4</th>\n",
       "      <td>168259</td>\n",
       "      <td>tt2820852</td>\n",
       "      <td>9.34</td>\n",
       "      <td>190000000.00</td>\n",
       "      <td>1506249360.00</td>\n",
       "      <td>1316249360.00</td>\n",
       "      <td>Furious 7</td>\n",
       "      <td>Vin Diesel|Paul Walker|Jason Statham|Michelle ...</td>\n",
       "      <td>James Wan</td>\n",
       "      <td>Vengeance Hits Home</td>\n",
       "      <td>137.00</td>\n",
       "      <td>Action|Crime|Thriller</td>\n",
       "      <td>Universal Pictures|Original Film|Media Rights ...</td>\n",
       "      <td>2947</td>\n",
       "      <td>7.30</td>\n",
       "      <td>2015</td>\n",
       "      <td>high</td>\n",
       "      <td>high</td>\n",
       "    </tr>\n",
       "  </tbody>\n",
       "</table>\n",
       "</div>"
      ],
      "text/plain": [
       "       id    imdb_id  popularity       budget       revenue        profit  \\\n",
       "0  135397  tt0369610       32.99 150000000.00 1513528810.00 1363528810.00   \n",
       "1   76341  tt1392190       28.42 150000000.00  378436354.00  228436354.00   \n",
       "2  262500  tt2908446       13.11 110000000.00  295238201.00  185238201.00   \n",
       "3  140607  tt2488496       11.17 200000000.00 2068178225.00 1868178225.00   \n",
       "4  168259  tt2820852        9.34 190000000.00 1506249360.00 1316249360.00   \n",
       "\n",
       "                 original_title  \\\n",
       "0                Jurassic World   \n",
       "1            Mad Max: Fury Road   \n",
       "2                     Insurgent   \n",
       "3  Star Wars: The Force Awakens   \n",
       "4                     Furious 7   \n",
       "\n",
       "                                                cast          director  \\\n",
       "0  Chris Pratt|Bryce Dallas Howard|Irrfan Khan|Vi...   Colin Trevorrow   \n",
       "1  Tom Hardy|Charlize Theron|Hugh Keays-Byrne|Nic...     George Miller   \n",
       "2  Shailene Woodley|Theo James|Kate Winslet|Ansel...  Robert Schwentke   \n",
       "3  Harrison Ford|Mark Hamill|Carrie Fisher|Adam D...       J.J. Abrams   \n",
       "4  Vin Diesel|Paul Walker|Jason Statham|Michelle ...         James Wan   \n",
       "\n",
       "                         tagline  runtime  \\\n",
       "0              The park is open.   124.00   \n",
       "1             What a Lovely Day.   120.00   \n",
       "2     One Choice Can Destroy You   119.00   \n",
       "3  Every generation has a story.   136.00   \n",
       "4            Vengeance Hits Home   137.00   \n",
       "\n",
       "                                      genres  \\\n",
       "0  Action|Adventure|Science Fiction|Thriller   \n",
       "1  Action|Adventure|Science Fiction|Thriller   \n",
       "2         Adventure|Science Fiction|Thriller   \n",
       "3   Action|Adventure|Science Fiction|Fantasy   \n",
       "4                      Action|Crime|Thriller   \n",
       "\n",
       "                                production_companies  vote_count  \\\n",
       "0  Universal Studios|Amblin Entertainment|Legenda...        5562   \n",
       "1  Village Roadshow Pictures|Kennedy Miller Produ...        6185   \n",
       "2  Summit Entertainment|Mandeville Films|Red Wago...        2480   \n",
       "3          Lucasfilm|Truenorth Productions|Bad Robot        5292   \n",
       "4  Universal Pictures|Original Film|Media Rights ...        2947   \n",
       "\n",
       "   vote_average  release_year popularity_level profit_level  \n",
       "0          6.50          2015             high         high  \n",
       "1          7.10          2015             high         high  \n",
       "2          6.30          2015             high         high  \n",
       "3          7.50          2015             high         high  \n",
       "4          7.30          2015             high         high  "
      ]
     },
     "execution_count": 813,
     "metadata": {},
     "output_type": "execute_result"
    }
   ],
   "source": [
    "#checking\n",
    "df.head()"
   ]
  },
  {
   "cell_type": "code",
   "execution_count": 814,
   "metadata": {},
   "outputs": [
    {
     "data": {
      "text/plain": [
       "Text(0.5, 1.0, 'Profitability Vs Vote_Average')"
      ]
     },
     "execution_count": 814,
     "metadata": {},
     "output_type": "execute_result"
    },
    {
     "data": {
      "image/png": "[encoded data removed]",
      "text/plain": [
       "<Figure size 1080x504 with 1 Axes>"
      ]
     },
     "metadata": {
      "needs_background": "light"
     },
     "output_type": "display_data"
    }
   ],
   "source": [
    "#plotting\n",
    "df.groupby('profit_level')['vote_average'].mean().plot(kind='bar',figsize=(15,7))\n",
    "plt.ylabel('Vote_Average',fontsize=18)\n",
    "plt.xlabel('Profitability',fontsize=18)\n",
    "plt.title('Profitability Vs Vote_Average',fontsize=20)"
   ]
  },
  {
   "cell_type": "code",
   "execution_count": 815,
   "metadata": {},
   "outputs": [
    {
     "data": {
      "text/plain": [
       "Text(0.5, 1.0, 'Profitability Vs Runtime')"
      ]
     },
     "execution_count": 815,
     "metadata": {},
     "output_type": "execute_result"
    },
    {
     "data": {
      "image/png": "[encoded data removed]",
      "text/plain": [
       "<Figure size 1080x504 with 1 Axes>"
      ]
     },
     "metadata": {
      "needs_background": "light"
     },
     "output_type": "display_data"
    }
   ],
   "source": [
    "#plotting\n",
    "df.groupby('profit_level')['runtime'].mean().plot(kind='bar',figsize=(15,7))\n",
    "plt.ylabel('Runtime',fontsize=18)\n",
    "plt.xlabel('Profitability',fontsize=18)\n",
    "plt.title('Profitability Vs Runtime',fontsize=20)"
   ]
  },
  {
   "cell_type": "markdown",
   "metadata": {},
   "source": [
    "> ### Research Question 5 : Which genres are more profitable?\n",
    " "
   ]
  },
  {
   "cell_type": "code",
   "execution_count": 816,
   "metadata": {},
   "outputs": [],
   "source": [
    "#create a new dataframe having high profit level\n",
    "df1=df.query('profit_level ==\"high\"')"
   ]
  },
  {
   "cell_type": "code",
   "execution_count": 817,
   "metadata": {},
   "outputs": [
    {
     "data": {
      "text/html": [
       "<div>\n",
       "<style scoped>\n",
       "    .dataframe tbody tr th:only-of-type {\n",
       "        vertical-align: middle;\n",
       "    }\n",
       "\n",
       "    .dataframe tbody tr th {\n",
       "        vertical-align: top;\n",
       "    }\n",
       "\n",
       "    .dataframe thead th {\n",
       "        text-align: right;\n",
       "    }\n",
       "</style>\n",
       "<table border=\"1\" class=\"dataframe\">\n",
       "  <thead>\n",
       "    <tr style=\"text-align: right;\">\n",
       "      <th></th>\n",
       "      <th>id</th>\n",
       "      <th>imdb_id</th>\n",
       "      <th>popularity</th>\n",
       "      <th>budget</th>\n",
       "      <th>revenue</th>\n",
       "      <th>profit</th>\n",
       "      <th>original_title</th>\n",
       "      <th>cast</th>\n",
       "      <th>director</th>\n",
       "      <th>tagline</th>\n",
       "      <th>runtime</th>\n",
       "      <th>genres</th>\n",
       "      <th>production_companies</th>\n",
       "      <th>vote_count</th>\n",
       "      <th>vote_average</th>\n",
       "      <th>release_year</th>\n",
       "      <th>popularity_level</th>\n",
       "      <th>profit_level</th>\n",
       "    </tr>\n",
       "  </thead>\n",
       "  <tbody>\n",
       "    <tr>\n",
       "      <th>0</th>\n",
       "      <td>135397</td>\n",
       "      <td>tt0369610</td>\n",
       "      <td>32.99</td>\n",
       "      <td>150000000.00</td>\n",
       "      <td>1513528810.00</td>\n",
       "      <td>1363528810.00</td>\n",
       "      <td>Jurassic World</td>\n",
       "      <td>Chris Pratt|Bryce Dallas Howard|Irrfan Khan|Vi...</td>\n",
       "      <td>Colin Trevorrow</td>\n",
       "      <td>The park is open.</td>\n",
       "      <td>124.00</td>\n",
       "      <td>Action|Adventure|Science Fiction|Thriller</td>\n",
       "      <td>Universal Studios|Amblin Entertainment|Legenda...</td>\n",
       "      <td>5562</td>\n",
       "      <td>6.50</td>\n",
       "      <td>2015</td>\n",
       "      <td>high</td>\n",
       "      <td>high</td>\n",
       "    </tr>\n",
       "    <tr>\n",
       "      <th>1</th>\n",
       "      <td>76341</td>\n",
       "      <td>tt1392190</td>\n",
       "      <td>28.42</td>\n",
       "      <td>150000000.00</td>\n",
       "      <td>378436354.00</td>\n",
       "      <td>228436354.00</td>\n",
       "      <td>Mad Max: Fury Road</td>\n",
       "      <td>Tom Hardy|Charlize Theron|Hugh Keays-Byrne|Nic...</td>\n",
       "      <td>George Miller</td>\n",
       "      <td>What a Lovely Day.</td>\n",
       "      <td>120.00</td>\n",
       "      <td>Action|Adventure|Science Fiction|Thriller</td>\n",
       "      <td>Village Roadshow Pictures|Kennedy Miller Produ...</td>\n",
       "      <td>6185</td>\n",
       "      <td>7.10</td>\n",
       "      <td>2015</td>\n",
       "      <td>high</td>\n",
       "      <td>high</td>\n",
       "    </tr>\n",
       "    <tr>\n",
       "      <th>2</th>\n",
       "      <td>262500</td>\n",
       "      <td>tt2908446</td>\n",
       "      <td>13.11</td>\n",
       "      <td>110000000.00</td>\n",
       "      <td>295238201.00</td>\n",
       "      <td>185238201.00</td>\n",
       "      <td>Insurgent</td>\n",
       "      <td>Shailene Woodley|Theo James|Kate Winslet|Ansel...</td>\n",
       "      <td>Robert Schwentke</td>\n",
       "      <td>One Choice Can Destroy You</td>\n",
       "      <td>119.00</td>\n",
       "      <td>Adventure|Science Fiction|Thriller</td>\n",
       "      <td>Summit Entertainment|Mandeville Films|Red Wago...</td>\n",
       "      <td>2480</td>\n",
       "      <td>6.30</td>\n",
       "      <td>2015</td>\n",
       "      <td>high</td>\n",
       "      <td>high</td>\n",
       "    </tr>\n",
       "    <tr>\n",
       "      <th>3</th>\n",
       "      <td>140607</td>\n",
       "      <td>tt2488496</td>\n",
       "      <td>11.17</td>\n",
       "      <td>200000000.00</td>\n",
       "      <td>2068178225.00</td>\n",
       "      <td>1868178225.00</td>\n",
       "      <td>Star Wars: The Force Awakens</td>\n",
       "      <td>Harrison Ford|Mark Hamill|Carrie Fisher|Adam D...</td>\n",
       "      <td>J.J. Abrams</td>\n",
       "      <td>Every generation has a story.</td>\n",
       "      <td>136.00</td>\n",
       "      <td>Action|Adventure|Science Fiction|Fantasy</td>\n",
       "      <td>Lucasfilm|Truenorth Productions|Bad Robot</td>\n",
       "      <td>5292</td>\n",
       "      <td>7.50</td>\n",
       "      <td>2015</td>\n",
       "      <td>high</td>\n",
       "      <td>high</td>\n",
       "    </tr>\n",
       "    <tr>\n",
       "      <th>4</th>\n",
       "      <td>168259</td>\n",
       "      <td>tt2820852</td>\n",
       "      <td>9.34</td>\n",
       "      <td>190000000.00</td>\n",
       "      <td>1506249360.00</td>\n",
       "      <td>1316249360.00</td>\n",
       "      <td>Furious 7</td>\n",
       "      <td>Vin Diesel|Paul Walker|Jason Statham|Michelle ...</td>\n",
       "      <td>James Wan</td>\n",
       "      <td>Vengeance Hits Home</td>\n",
       "      <td>137.00</td>\n",
       "      <td>Action|Crime|Thriller</td>\n",
       "      <td>Universal Pictures|Original Film|Media Rights ...</td>\n",
       "      <td>2947</td>\n",
       "      <td>7.30</td>\n",
       "      <td>2015</td>\n",
       "      <td>high</td>\n",
       "      <td>high</td>\n",
       "    </tr>\n",
       "    <tr>\n",
       "      <th>...</th>\n",
       "      <td>...</td>\n",
       "      <td>...</td>\n",
       "      <td>...</td>\n",
       "      <td>...</td>\n",
       "      <td>...</td>\n",
       "      <td>...</td>\n",
       "      <td>...</td>\n",
       "      <td>...</td>\n",
       "      <td>...</td>\n",
       "      <td>...</td>\n",
       "      <td>...</td>\n",
       "      <td>...</td>\n",
       "      <td>...</td>\n",
       "      <td>...</td>\n",
       "      <td>...</td>\n",
       "      <td>...</td>\n",
       "      <td>...</td>\n",
       "      <td>...</td>\n",
       "    </tr>\n",
       "    <tr>\n",
       "      <th>10725</th>\n",
       "      <td>642</td>\n",
       "      <td>tt0064115</td>\n",
       "      <td>1.36</td>\n",
       "      <td>6000000.00</td>\n",
       "      <td>102308889.00</td>\n",
       "      <td>96308889.00</td>\n",
       "      <td>Butch Cassidy and the Sundance Kid</td>\n",
       "      <td>Paul Newman|Robert Redford|Katharine Ross|Stro...</td>\n",
       "      <td>George Roy Hill</td>\n",
       "      <td>Not that it matters, but most of it is true.</td>\n",
       "      <td>110.00</td>\n",
       "      <td>History|Drama|Western|Crime</td>\n",
       "      <td>Twentieth Century Fox Film Corporation|Campani...</td>\n",
       "      <td>379</td>\n",
       "      <td>7.00</td>\n",
       "      <td>1969</td>\n",
       "      <td>medium</td>\n",
       "      <td>high</td>\n",
       "    </tr>\n",
       "    <tr>\n",
       "      <th>10755</th>\n",
       "      <td>621</td>\n",
       "      <td>tt0077631</td>\n",
       "      <td>1.70</td>\n",
       "      <td>6000000.00</td>\n",
       "      <td>181813770.00</td>\n",
       "      <td>175813770.00</td>\n",
       "      <td>Grease</td>\n",
       "      <td>John Travolta|Olivia Newton-John|Stockard Chan...</td>\n",
       "      <td>Randal Kleiser</td>\n",
       "      <td>Grease is the word</td>\n",
       "      <td>110.00</td>\n",
       "      <td>Music</td>\n",
       "      <td>Paramount Pictures|Robert Stigwood Organizatio...</td>\n",
       "      <td>786</td>\n",
       "      <td>7.00</td>\n",
       "      <td>1978</td>\n",
       "      <td>high</td>\n",
       "      <td>high</td>\n",
       "    </tr>\n",
       "    <tr>\n",
       "      <th>10756</th>\n",
       "      <td>579</td>\n",
       "      <td>tt0077766</td>\n",
       "      <td>1.56</td>\n",
       "      <td>20000000.00</td>\n",
       "      <td>187884007.00</td>\n",
       "      <td>167884007.00</td>\n",
       "      <td>Jaws 2</td>\n",
       "      <td>Roy Scheider|Lorraine Gary|Murray Hamilton|Jos...</td>\n",
       "      <td>Jeannot Szwarc</td>\n",
       "      <td>Just when you thought it was safe to go back i...</td>\n",
       "      <td>116.00</td>\n",
       "      <td>Horror|Thriller</td>\n",
       "      <td>Universal Pictures</td>\n",
       "      <td>179</td>\n",
       "      <td>5.50</td>\n",
       "      <td>1978</td>\n",
       "      <td>high</td>\n",
       "      <td>high</td>\n",
       "    </tr>\n",
       "    <tr>\n",
       "      <th>10758</th>\n",
       "      <td>1924</td>\n",
       "      <td>tt0078346</td>\n",
       "      <td>1.21</td>\n",
       "      <td>55000000.00</td>\n",
       "      <td>300218018.00</td>\n",
       "      <td>245218018.00</td>\n",
       "      <td>Superman</td>\n",
       "      <td>Marlon Brando|Gene Hackman|Christopher Reeve|N...</td>\n",
       "      <td>Richard Donner</td>\n",
       "      <td>You'll Believe a Man Can Fly!</td>\n",
       "      <td>143.00</td>\n",
       "      <td>Adventure|Fantasy|Action|Science Fiction</td>\n",
       "      <td>Warner Bros.|Dovemead Films|Film Export A.G.</td>\n",
       "      <td>518</td>\n",
       "      <td>6.70</td>\n",
       "      <td>1978</td>\n",
       "      <td>medium</td>\n",
       "      <td>high</td>\n",
       "    </tr>\n",
       "    <tr>\n",
       "      <th>10760</th>\n",
       "      <td>8469</td>\n",
       "      <td>tt0077975</td>\n",
       "      <td>1.16</td>\n",
       "      <td>2700000.00</td>\n",
       "      <td>141000000.00</td>\n",
       "      <td>138300000.00</td>\n",
       "      <td>Animal House</td>\n",
       "      <td>John Belushi|Tim Matheson|John Vernon|Verna Bl...</td>\n",
       "      <td>John Landis</td>\n",
       "      <td>It was the Deltas against the rules... the rul...</td>\n",
       "      <td>109.00</td>\n",
       "      <td>Comedy</td>\n",
       "      <td>Universal Pictures|Oregon Film Factory|Stage I...</td>\n",
       "      <td>230</td>\n",
       "      <td>6.70</td>\n",
       "      <td>1978</td>\n",
       "      <td>medium</td>\n",
       "      <td>high</td>\n",
       "    </tr>\n",
       "  </tbody>\n",
       "</table>\n",
       "<p>886 rows × 18 columns</p>\n",
       "</div>"
      ],
      "text/plain": [
       "           id    imdb_id  popularity       budget       revenue        profit  \\\n",
       "0      135397  tt0369610       32.99 150000000.00 1513528810.00 1363528810.00   \n",
       "1       76341  tt1392190       28.42 150000000.00  378436354.00  228436354.00   \n",
       "2      262500  tt2908446       13.11 110000000.00  295238201.00  185238201.00   \n",
       "3      140607  tt2488496       11.17 200000000.00 2068178225.00 1868178225.00   \n",
       "4      168259  tt2820852        9.34 190000000.00 1506249360.00 1316249360.00   \n",
       "...       ...        ...         ...          ...           ...           ...   \n",
       "10725     642  tt0064115        1.36   6000000.00  102308889.00   96308889.00   \n",
       "10755     621  tt0077631        1.70   6000000.00  181813770.00  175813770.00   \n",
       "10756     579  tt0077766        1.56  20000000.00  187884007.00  167884007.00   \n",
       "10758    1924  tt0078346        1.21  55000000.00  300218018.00  245218018.00   \n",
       "10760    8469  tt0077975        1.16   2700000.00  141000000.00  138300000.00   \n",
       "\n",
       "                           original_title  \\\n",
       "0                          Jurassic World   \n",
       "1                      Mad Max: Fury Road   \n",
       "2                               Insurgent   \n",
       "3            Star Wars: The Force Awakens   \n",
       "4                               Furious 7   \n",
       "...                                   ...   \n",
       "10725  Butch Cassidy and the Sundance Kid   \n",
       "10755                              Grease   \n",
       "10756                              Jaws 2   \n",
       "10758                            Superman   \n",
       "10760                        Animal House   \n",
       "\n",
       "                                                    cast          director  \\\n",
       "0      Chris Pratt|Bryce Dallas Howard|Irrfan Khan|Vi...   Colin Trevorrow   \n",
       "1      Tom Hardy|Charlize Theron|Hugh Keays-Byrne|Nic...     George Miller   \n",
       "2      Shailene Woodley|Theo James|Kate Winslet|Ansel...  Robert Schwentke   \n",
       "3      Harrison Ford|Mark Hamill|Carrie Fisher|Adam D...       J.J. Abrams   \n",
       "4      Vin Diesel|Paul Walker|Jason Statham|Michelle ...         James Wan   \n",
       "...                                                  ...               ...   \n",
       "10725  Paul Newman|Robert Redford|Katharine Ross|Stro...   George Roy Hill   \n",
       "10755  John Travolta|Olivia Newton-John|Stockard Chan...    Randal Kleiser   \n",
       "10756  Roy Scheider|Lorraine Gary|Murray Hamilton|Jos...    Jeannot Szwarc   \n",
       "10758  Marlon Brando|Gene Hackman|Christopher Reeve|N...    Richard Donner   \n",
       "10760  John Belushi|Tim Matheson|John Vernon|Verna Bl...       John Landis   \n",
       "\n",
       "                                                 tagline  runtime  \\\n",
       "0                                      The park is open.   124.00   \n",
       "1                                     What a Lovely Day.   120.00   \n",
       "2                             One Choice Can Destroy You   119.00   \n",
       "3                          Every generation has a story.   136.00   \n",
       "4                                    Vengeance Hits Home   137.00   \n",
       "...                                                  ...      ...   \n",
       "10725       Not that it matters, but most of it is true.   110.00   \n",
       "10755                                 Grease is the word   110.00   \n",
       "10756  Just when you thought it was safe to go back i...   116.00   \n",
       "10758                      You'll Believe a Man Can Fly!   143.00   \n",
       "10760  It was the Deltas against the rules... the rul...   109.00   \n",
       "\n",
       "                                          genres  \\\n",
       "0      Action|Adventure|Science Fiction|Thriller   \n",
       "1      Action|Adventure|Science Fiction|Thriller   \n",
       "2             Adventure|Science Fiction|Thriller   \n",
       "3       Action|Adventure|Science Fiction|Fantasy   \n",
       "4                          Action|Crime|Thriller   \n",
       "...                                          ...   \n",
       "10725                History|Drama|Western|Crime   \n",
       "10755                                      Music   \n",
       "10756                            Horror|Thriller   \n",
       "10758   Adventure|Fantasy|Action|Science Fiction   \n",
       "10760                                     Comedy   \n",
       "\n",
       "                                    production_companies  vote_count  \\\n",
       "0      Universal Studios|Amblin Entertainment|Legenda...        5562   \n",
       "1      Village Roadshow Pictures|Kennedy Miller Produ...        6185   \n",
       "2      Summit Entertainment|Mandeville Films|Red Wago...        2480   \n",
       "3              Lucasfilm|Truenorth Productions|Bad Robot        5292   \n",
       "4      Universal Pictures|Original Film|Media Rights ...        2947   \n",
       "...                                                  ...         ...   \n",
       "10725  Twentieth Century Fox Film Corporation|Campani...         379   \n",
       "10755  Paramount Pictures|Robert Stigwood Organizatio...         786   \n",
       "10756                                 Universal Pictures         179   \n",
       "10758       Warner Bros.|Dovemead Films|Film Export A.G.         518   \n",
       "10760  Universal Pictures|Oregon Film Factory|Stage I...         230   \n",
       "\n",
       "       vote_average  release_year popularity_level profit_level  \n",
       "0              6.50          2015             high         high  \n",
       "1              7.10          2015             high         high  \n",
       "2              6.30          2015             high         high  \n",
       "3              7.50          2015             high         high  \n",
       "4              7.30          2015             high         high  \n",
       "...             ...           ...              ...          ...  \n",
       "10725          7.00          1969           medium         high  \n",
       "10755          7.00          1978             high         high  \n",
       "10756          5.50          1978             high         high  \n",
       "10758          6.70          1978           medium         high  \n",
       "10760          6.70          1978           medium         high  \n",
       "\n",
       "[886 rows x 18 columns]"
      ]
     },
     "execution_count": 817,
     "metadata": {},
     "output_type": "execute_result"
    }
   ],
   "source": [
    "#checking\n",
    "df1"
   ]
  },
  {
   "cell_type": "code",
   "execution_count": 818,
   "metadata": {},
   "outputs": [],
   "source": [
    "#counting profitable genres\n",
    "pro_g = df1['genres'].str.cat(sep = '|')\n",
    "pro_g = pd.Series(pro_g.split('|'))\n",
    "pro_count = pro_g.value_counts(ascending = False)"
   ]
  },
  {
   "cell_type": "code",
   "execution_count": 819,
   "metadata": {},
   "outputs": [
    {
     "data": {
      "text/plain": [
       "Action             332\n",
       "Comedy             324\n",
       "Adventure          287\n",
       "Drama              286\n",
       "Thriller           254\n",
       "Family             169\n",
       "Science Fiction    154\n",
       "Fantasy            149\n",
       "Romance            137\n",
       "Crime              118\n",
       "Animation          101\n",
       "Mystery             75\n",
       "Horror              69\n",
       "Music               33\n",
       "War                 30\n",
       "History             18\n",
       "Western             12\n",
       "Documentary          2\n",
       "dtype: int64"
      ]
     },
     "execution_count": 819,
     "metadata": {},
     "output_type": "execute_result"
    }
   ],
   "source": [
    "pro_count"
   ]
  },
  {
   "cell_type": "code",
   "execution_count": 820,
   "metadata": {},
   "outputs": [
    {
     "data": {
      "text/plain": [
       "Text(0, 0.5, 'Genres')"
      ]
     },
     "execution_count": 820,
     "metadata": {},
     "output_type": "execute_result"
    },
    {
     "data": {
      "image/png": "[encoded data removed]",
      "text/plain": [
       "<Figure size 1296x648 with 1 Axes>"
      ]
     },
     "metadata": {
      "needs_background": "light"
     },
     "output_type": "display_data"
    }
   ],
   "source": [
    "#plotting\n",
    "pro_count.sort_values(ascending = True).plot(kind='barh',figsize=(18,9))\n",
    "plt.title('Most Profitable Genres',fontsize=20)                                         \n",
    "plt.xlabel('Number of Movies',fontsize=18)\n",
    "plt.ylabel('Genres')\n"
   ]
  },
  {
   "cell_type": "markdown",
   "metadata": {},
   "source": [
    "> ### Research Question 6 : Who are the most frequent cast in highly profitable movies?"
   ]
  },
  {
   "cell_type": "code",
   "execution_count": 821,
   "metadata": {},
   "outputs": [],
   "source": [
    "#counting frequent cast in high profitable movies\n",
    "pro_c = df1['cast'].str.cat(sep = '|')\n",
    "pro_c = pd.Series(pro_c.split('|'))\n",
    "pro_count = pro_c.value_counts(ascending = False)"
   ]
  },
  {
   "cell_type": "code",
   "execution_count": 822,
   "metadata": {},
   "outputs": [],
   "source": [
    "pro_count=pro_count.head(10)"
   ]
  },
  {
   "cell_type": "code",
   "execution_count": 823,
   "metadata": {},
   "outputs": [
    {
     "data": {
      "text/plain": [
       "Tom Cruise            25\n",
       "Tom Hanks             19\n",
       "Brad Pitt             19\n",
       "Adam Sandler          17\n",
       "Cameron Diaz          17\n",
       "Sylvester Stallone    16\n",
       "Will Smith            16\n",
       "Ben Stiller           15\n",
       "Bruce Willis          15\n",
       "Jim Carrey            15\n",
       "dtype: int64"
      ]
     },
     "execution_count": 823,
     "metadata": {},
     "output_type": "execute_result"
    }
   ],
   "source": [
    "pro_count"
   ]
  },
  {
   "cell_type": "code",
   "execution_count": 834,
   "metadata": {},
   "outputs": [
    {
     "data": {
      "text/plain": [
       "Text(0, 0.5, 'Cast')"
      ]
     },
     "execution_count": 834,
     "metadata": {},
     "output_type": "execute_result"
    },
    {
     "data": {
      "image/png": "[encoded data removed]",
      "text/plain": [
       "<Figure size 1296x648 with 1 Axes>"
      ]
     },
     "metadata": {
      "needs_background": "light"
     },
     "output_type": "display_data"
    }
   ],
   "source": [
    "#plotting\n",
    "pro_count.sort_values(ascending = True).plot(kind='barh',figsize=(18,9))\n",
    "plt.title('Most Frequent Cast In Highly Profitable Movies ',fontsize=20)                                         \n",
    "plt.xlabel('Number of Movies',fontsize=18)\n",
    "plt.ylabel('Cast')"
   ]
  },
  {
   "cell_type": "markdown",
   "metadata": {},
   "source": [
    "> ### Research Question 7 : Which genres are most popular?\n"
   ]
  },
  {
   "cell_type": "code",
   "execution_count": 825,
   "metadata": {},
   "outputs": [],
   "source": [
    "#createing new dataframe with high popularity level\n",
    "df2=df.query('popularity_level ==\"high\"')"
   ]
  },
  {
   "cell_type": "code",
   "execution_count": 826,
   "metadata": {},
   "outputs": [
    {
     "data": {
      "text/html": [
       "<div>\n",
       "<style scoped>\n",
       "    .dataframe tbody tr th:only-of-type {\n",
       "        vertical-align: middle;\n",
       "    }\n",
       "\n",
       "    .dataframe tbody tr th {\n",
       "        vertical-align: top;\n",
       "    }\n",
       "\n",
       "    .dataframe thead th {\n",
       "        text-align: right;\n",
       "    }\n",
       "</style>\n",
       "<table border=\"1\" class=\"dataframe\">\n",
       "  <thead>\n",
       "    <tr style=\"text-align: right;\">\n",
       "      <th></th>\n",
       "      <th>id</th>\n",
       "      <th>imdb_id</th>\n",
       "      <th>popularity</th>\n",
       "      <th>budget</th>\n",
       "      <th>revenue</th>\n",
       "      <th>profit</th>\n",
       "      <th>original_title</th>\n",
       "      <th>cast</th>\n",
       "      <th>director</th>\n",
       "      <th>tagline</th>\n",
       "      <th>runtime</th>\n",
       "      <th>genres</th>\n",
       "      <th>production_companies</th>\n",
       "      <th>vote_count</th>\n",
       "      <th>vote_average</th>\n",
       "      <th>release_year</th>\n",
       "      <th>popularity_level</th>\n",
       "      <th>profit_level</th>\n",
       "    </tr>\n",
       "  </thead>\n",
       "  <tbody>\n",
       "    <tr>\n",
       "      <th>0</th>\n",
       "      <td>135397</td>\n",
       "      <td>tt0369610</td>\n",
       "      <td>32.99</td>\n",
       "      <td>150000000.00</td>\n",
       "      <td>1513528810.00</td>\n",
       "      <td>1363528810.00</td>\n",
       "      <td>Jurassic World</td>\n",
       "      <td>Chris Pratt|Bryce Dallas Howard|Irrfan Khan|Vi...</td>\n",
       "      <td>Colin Trevorrow</td>\n",
       "      <td>The park is open.</td>\n",
       "      <td>124.00</td>\n",
       "      <td>Action|Adventure|Science Fiction|Thriller</td>\n",
       "      <td>Universal Studios|Amblin Entertainment|Legenda...</td>\n",
       "      <td>5562</td>\n",
       "      <td>6.50</td>\n",
       "      <td>2015</td>\n",
       "      <td>high</td>\n",
       "      <td>high</td>\n",
       "    </tr>\n",
       "    <tr>\n",
       "      <th>1</th>\n",
       "      <td>76341</td>\n",
       "      <td>tt1392190</td>\n",
       "      <td>28.42</td>\n",
       "      <td>150000000.00</td>\n",
       "      <td>378436354.00</td>\n",
       "      <td>228436354.00</td>\n",
       "      <td>Mad Max: Fury Road</td>\n",
       "      <td>Tom Hardy|Charlize Theron|Hugh Keays-Byrne|Nic...</td>\n",
       "      <td>George Miller</td>\n",
       "      <td>What a Lovely Day.</td>\n",
       "      <td>120.00</td>\n",
       "      <td>Action|Adventure|Science Fiction|Thriller</td>\n",
       "      <td>Village Roadshow Pictures|Kennedy Miller Produ...</td>\n",
       "      <td>6185</td>\n",
       "      <td>7.10</td>\n",
       "      <td>2015</td>\n",
       "      <td>high</td>\n",
       "      <td>high</td>\n",
       "    </tr>\n",
       "    <tr>\n",
       "      <th>2</th>\n",
       "      <td>262500</td>\n",
       "      <td>tt2908446</td>\n",
       "      <td>13.11</td>\n",
       "      <td>110000000.00</td>\n",
       "      <td>295238201.00</td>\n",
       "      <td>185238201.00</td>\n",
       "      <td>Insurgent</td>\n",
       "      <td>Shailene Woodley|Theo James|Kate Winslet|Ansel...</td>\n",
       "      <td>Robert Schwentke</td>\n",
       "      <td>One Choice Can Destroy You</td>\n",
       "      <td>119.00</td>\n",
       "      <td>Adventure|Science Fiction|Thriller</td>\n",
       "      <td>Summit Entertainment|Mandeville Films|Red Wago...</td>\n",
       "      <td>2480</td>\n",
       "      <td>6.30</td>\n",
       "      <td>2015</td>\n",
       "      <td>high</td>\n",
       "      <td>high</td>\n",
       "    </tr>\n",
       "    <tr>\n",
       "      <th>3</th>\n",
       "      <td>140607</td>\n",
       "      <td>tt2488496</td>\n",
       "      <td>11.17</td>\n",
       "      <td>200000000.00</td>\n",
       "      <td>2068178225.00</td>\n",
       "      <td>1868178225.00</td>\n",
       "      <td>Star Wars: The Force Awakens</td>\n",
       "      <td>Harrison Ford|Mark Hamill|Carrie Fisher|Adam D...</td>\n",
       "      <td>J.J. Abrams</td>\n",
       "      <td>Every generation has a story.</td>\n",
       "      <td>136.00</td>\n",
       "      <td>Action|Adventure|Science Fiction|Fantasy</td>\n",
       "      <td>Lucasfilm|Truenorth Productions|Bad Robot</td>\n",
       "      <td>5292</td>\n",
       "      <td>7.50</td>\n",
       "      <td>2015</td>\n",
       "      <td>high</td>\n",
       "      <td>high</td>\n",
       "    </tr>\n",
       "    <tr>\n",
       "      <th>4</th>\n",
       "      <td>168259</td>\n",
       "      <td>tt2820852</td>\n",
       "      <td>9.34</td>\n",
       "      <td>190000000.00</td>\n",
       "      <td>1506249360.00</td>\n",
       "      <td>1316249360.00</td>\n",
       "      <td>Furious 7</td>\n",
       "      <td>Vin Diesel|Paul Walker|Jason Statham|Michelle ...</td>\n",
       "      <td>James Wan</td>\n",
       "      <td>Vengeance Hits Home</td>\n",
       "      <td>137.00</td>\n",
       "      <td>Action|Crime|Thriller</td>\n",
       "      <td>Universal Pictures|Original Film|Media Rights ...</td>\n",
       "      <td>2947</td>\n",
       "      <td>7.30</td>\n",
       "      <td>2015</td>\n",
       "      <td>high</td>\n",
       "      <td>high</td>\n",
       "    </tr>\n",
       "    <tr>\n",
       "      <th>...</th>\n",
       "      <td>...</td>\n",
       "      <td>...</td>\n",
       "      <td>...</td>\n",
       "      <td>...</td>\n",
       "      <td>...</td>\n",
       "      <td>...</td>\n",
       "      <td>...</td>\n",
       "      <td>...</td>\n",
       "      <td>...</td>\n",
       "      <td>...</td>\n",
       "      <td>...</td>\n",
       "      <td>...</td>\n",
       "      <td>...</td>\n",
       "      <td>...</td>\n",
       "      <td>...</td>\n",
       "      <td>...</td>\n",
       "      <td>...</td>\n",
       "      <td>...</td>\n",
       "    </tr>\n",
       "    <tr>\n",
       "      <th>10648</th>\n",
       "      <td>10112</td>\n",
       "      <td>tt0065421</td>\n",
       "      <td>1.94</td>\n",
       "      <td>4000000.00</td>\n",
       "      <td>55675257.00</td>\n",
       "      <td>51675257.00</td>\n",
       "      <td>The Aristocats</td>\n",
       "      <td>Phil Harris|Sterling Holloway|Scatman Crothers...</td>\n",
       "      <td>Wolfgang Reitherman</td>\n",
       "      <td>A tune-filled animated extravaganza.</td>\n",
       "      <td>78.00</td>\n",
       "      <td>Animation|Comedy|Family|Adventure</td>\n",
       "      <td>Walt Disney Productions</td>\n",
       "      <td>625</td>\n",
       "      <td>7.00</td>\n",
       "      <td>1970</td>\n",
       "      <td>high</td>\n",
       "      <td>medium</td>\n",
       "    </tr>\n",
       "    <tr>\n",
       "      <th>10689</th>\n",
       "      <td>660</td>\n",
       "      <td>tt0059800</td>\n",
       "      <td>1.91</td>\n",
       "      <td>11000000.00</td>\n",
       "      <td>141195658.00</td>\n",
       "      <td>130195658.00</td>\n",
       "      <td>Thunderball</td>\n",
       "      <td>Sean Connery|Claudine Auger|Adolfo Celi|Lucian...</td>\n",
       "      <td>Terence Young</td>\n",
       "      <td>Look up!  Look down!  Look out!</td>\n",
       "      <td>130.00</td>\n",
       "      <td>Adventure|Action|Thriller</td>\n",
       "      <td>Eon Productions|Metro-Goldwyn-Mayer (MGM)</td>\n",
       "      <td>331</td>\n",
       "      <td>6.30</td>\n",
       "      <td>1965</td>\n",
       "      <td>high</td>\n",
       "      <td>high</td>\n",
       "    </tr>\n",
       "    <tr>\n",
       "      <th>10724</th>\n",
       "      <td>668</td>\n",
       "      <td>tt0064757</td>\n",
       "      <td>1.78</td>\n",
       "      <td>7000000.00</td>\n",
       "      <td>81974493.00</td>\n",
       "      <td>74974493.00</td>\n",
       "      <td>On Her Majesty's Secret Service</td>\n",
       "      <td>George Lazenby|Diana Rigg|Telly Savalas|Gabrie...</td>\n",
       "      <td>Peter R. Hunt</td>\n",
       "      <td>Far up! Far out! Far more! James Bond 007 is b...</td>\n",
       "      <td>142.00</td>\n",
       "      <td>Adventure|Action|Thriller</td>\n",
       "      <td>Eon Productions|Metro-Goldwyn-Mayer (MGM)|Danjaq</td>\n",
       "      <td>258</td>\n",
       "      <td>6.40</td>\n",
       "      <td>1969</td>\n",
       "      <td>high</td>\n",
       "      <td>medium</td>\n",
       "    </tr>\n",
       "    <tr>\n",
       "      <th>10755</th>\n",
       "      <td>621</td>\n",
       "      <td>tt0077631</td>\n",
       "      <td>1.70</td>\n",
       "      <td>6000000.00</td>\n",
       "      <td>181813770.00</td>\n",
       "      <td>175813770.00</td>\n",
       "      <td>Grease</td>\n",
       "      <td>John Travolta|Olivia Newton-John|Stockard Chan...</td>\n",
       "      <td>Randal Kleiser</td>\n",
       "      <td>Grease is the word</td>\n",
       "      <td>110.00</td>\n",
       "      <td>Music</td>\n",
       "      <td>Paramount Pictures|Robert Stigwood Organizatio...</td>\n",
       "      <td>786</td>\n",
       "      <td>7.00</td>\n",
       "      <td>1978</td>\n",
       "      <td>high</td>\n",
       "      <td>high</td>\n",
       "    </tr>\n",
       "    <tr>\n",
       "      <th>10756</th>\n",
       "      <td>579</td>\n",
       "      <td>tt0077766</td>\n",
       "      <td>1.56</td>\n",
       "      <td>20000000.00</td>\n",
       "      <td>187884007.00</td>\n",
       "      <td>167884007.00</td>\n",
       "      <td>Jaws 2</td>\n",
       "      <td>Roy Scheider|Lorraine Gary|Murray Hamilton|Jos...</td>\n",
       "      <td>Jeannot Szwarc</td>\n",
       "      <td>Just when you thought it was safe to go back i...</td>\n",
       "      <td>116.00</td>\n",
       "      <td>Horror|Thriller</td>\n",
       "      <td>Universal Pictures</td>\n",
       "      <td>179</td>\n",
       "      <td>5.50</td>\n",
       "      <td>1978</td>\n",
       "      <td>high</td>\n",
       "      <td>high</td>\n",
       "    </tr>\n",
       "  </tbody>\n",
       "</table>\n",
       "<p>886 rows × 18 columns</p>\n",
       "</div>"
      ],
      "text/plain": [
       "           id    imdb_id  popularity       budget       revenue        profit  \\\n",
       "0      135397  tt0369610       32.99 150000000.00 1513528810.00 1363528810.00   \n",
       "1       76341  tt1392190       28.42 150000000.00  378436354.00  228436354.00   \n",
       "2      262500  tt2908446       13.11 110000000.00  295238201.00  185238201.00   \n",
       "3      140607  tt2488496       11.17 200000000.00 2068178225.00 1868178225.00   \n",
       "4      168259  tt2820852        9.34 190000000.00 1506249360.00 1316249360.00   \n",
       "...       ...        ...         ...          ...           ...           ...   \n",
       "10648   10112  tt0065421        1.94   4000000.00   55675257.00   51675257.00   \n",
       "10689     660  tt0059800        1.91  11000000.00  141195658.00  130195658.00   \n",
       "10724     668  tt0064757        1.78   7000000.00   81974493.00   74974493.00   \n",
       "10755     621  tt0077631        1.70   6000000.00  181813770.00  175813770.00   \n",
       "10756     579  tt0077766        1.56  20000000.00  187884007.00  167884007.00   \n",
       "\n",
       "                        original_title  \\\n",
       "0                       Jurassic World   \n",
       "1                   Mad Max: Fury Road   \n",
       "2                            Insurgent   \n",
       "3         Star Wars: The Force Awakens   \n",
       "4                            Furious 7   \n",
       "...                                ...   \n",
       "10648                   The Aristocats   \n",
       "10689                      Thunderball   \n",
       "10724  On Her Majesty's Secret Service   \n",
       "10755                           Grease   \n",
       "10756                           Jaws 2   \n",
       "\n",
       "                                                    cast             director  \\\n",
       "0      Chris Pratt|Bryce Dallas Howard|Irrfan Khan|Vi...      Colin Trevorrow   \n",
       "1      Tom Hardy|Charlize Theron|Hugh Keays-Byrne|Nic...        George Miller   \n",
       "2      Shailene Woodley|Theo James|Kate Winslet|Ansel...     Robert Schwentke   \n",
       "3      Harrison Ford|Mark Hamill|Carrie Fisher|Adam D...          J.J. Abrams   \n",
       "4      Vin Diesel|Paul Walker|Jason Statham|Michelle ...            James Wan   \n",
       "...                                                  ...                  ...   \n",
       "10648  Phil Harris|Sterling Holloway|Scatman Crothers...  Wolfgang Reitherman   \n",
       "10689  Sean Connery|Claudine Auger|Adolfo Celi|Lucian...        Terence Young   \n",
       "10724  George Lazenby|Diana Rigg|Telly Savalas|Gabrie...        Peter R. Hunt   \n",
       "10755  John Travolta|Olivia Newton-John|Stockard Chan...       Randal Kleiser   \n",
       "10756  Roy Scheider|Lorraine Gary|Murray Hamilton|Jos...       Jeannot Szwarc   \n",
       "\n",
       "                                                 tagline  runtime  \\\n",
       "0                                      The park is open.   124.00   \n",
       "1                                     What a Lovely Day.   120.00   \n",
       "2                             One Choice Can Destroy You   119.00   \n",
       "3                          Every generation has a story.   136.00   \n",
       "4                                    Vengeance Hits Home   137.00   \n",
       "...                                                  ...      ...   \n",
       "10648               A tune-filled animated extravaganza.    78.00   \n",
       "10689                    Look up!  Look down!  Look out!   130.00   \n",
       "10724  Far up! Far out! Far more! James Bond 007 is b...   142.00   \n",
       "10755                                 Grease is the word   110.00   \n",
       "10756  Just when you thought it was safe to go back i...   116.00   \n",
       "\n",
       "                                          genres  \\\n",
       "0      Action|Adventure|Science Fiction|Thriller   \n",
       "1      Action|Adventure|Science Fiction|Thriller   \n",
       "2             Adventure|Science Fiction|Thriller   \n",
       "3       Action|Adventure|Science Fiction|Fantasy   \n",
       "4                          Action|Crime|Thriller   \n",
       "...                                          ...   \n",
       "10648          Animation|Comedy|Family|Adventure   \n",
       "10689                  Adventure|Action|Thriller   \n",
       "10724                  Adventure|Action|Thriller   \n",
       "10755                                      Music   \n",
       "10756                            Horror|Thriller   \n",
       "\n",
       "                                    production_companies  vote_count  \\\n",
       "0      Universal Studios|Amblin Entertainment|Legenda...        5562   \n",
       "1      Village Roadshow Pictures|Kennedy Miller Produ...        6185   \n",
       "2      Summit Entertainment|Mandeville Films|Red Wago...        2480   \n",
       "3              Lucasfilm|Truenorth Productions|Bad Robot        5292   \n",
       "4      Universal Pictures|Original Film|Media Rights ...        2947   \n",
       "...                                                  ...         ...   \n",
       "10648                            Walt Disney Productions         625   \n",
       "10689          Eon Productions|Metro-Goldwyn-Mayer (MGM)         331   \n",
       "10724   Eon Productions|Metro-Goldwyn-Mayer (MGM)|Danjaq         258   \n",
       "10755  Paramount Pictures|Robert Stigwood Organizatio...         786   \n",
       "10756                                 Universal Pictures         179   \n",
       "\n",
       "       vote_average  release_year popularity_level profit_level  \n",
       "0              6.50          2015             high         high  \n",
       "1              7.10          2015             high         high  \n",
       "2              6.30          2015             high         high  \n",
       "3              7.50          2015             high         high  \n",
       "4              7.30          2015             high         high  \n",
       "...             ...           ...              ...          ...  \n",
       "10648          7.00          1970             high       medium  \n",
       "10689          6.30          1965             high         high  \n",
       "10724          6.40          1969             high       medium  \n",
       "10755          7.00          1978             high         high  \n",
       "10756          5.50          1978             high         high  \n",
       "\n",
       "[886 rows x 18 columns]"
      ]
     },
     "execution_count": 826,
     "metadata": {},
     "output_type": "execute_result"
    }
   ],
   "source": [
    "df2"
   ]
  },
  {
   "cell_type": "code",
   "execution_count": 827,
   "metadata": {},
   "outputs": [],
   "source": [
    "#counting\n",
    "pop_g = df2['genres'].str.cat(sep = '|')\n",
    "pop_g = pd.Series(pop_g.split('|'))\n",
    "pop_count = pop_g.value_counts(ascending = False)"
   ]
  },
  {
   "cell_type": "code",
   "execution_count": 828,
   "metadata": {},
   "outputs": [
    {
     "data": {
      "text/plain": [
       "Action             355\n",
       "Adventure          305\n",
       "Drama              298\n",
       "Thriller           283\n",
       "Comedy             269\n",
       "Science Fiction    186\n",
       "Fantasy            166\n",
       "Family             154\n",
       "Romance            129\n",
       "Crime              129\n",
       "Animation           96\n",
       "Mystery             67\n",
       "Horror              57\n",
       "War                 34\n",
       "Music               24\n",
       "History             21\n",
       "Western              8\n",
       "dtype: int64"
      ]
     },
     "execution_count": 828,
     "metadata": {},
     "output_type": "execute_result"
    }
   ],
   "source": [
    "pop_count"
   ]
  },
  {
   "cell_type": "code",
   "execution_count": 829,
   "metadata": {},
   "outputs": [
    {
     "data": {
      "text/plain": [
       "Text(0, 0.5, 'Genres')"
      ]
     },
     "execution_count": 829,
     "metadata": {},
     "output_type": "execute_result"
    },
    {
     "data": {
      "image/png": "[encoded data removed]",
      "text/plain": [
       "<Figure size 1296x648 with 1 Axes>"
      ]
     },
     "metadata": {
      "needs_background": "light"
     },
     "output_type": "display_data"
    }
   ],
   "source": [
    "pop_count.sort_values(ascending = True).plot(kind='barh',figsize=(18,9))\n",
    "plt.title('Most Popular Genres',fontsize=20)                                         \n",
    "plt.xlabel('Number of Movies',fontsize=18)\n",
    "plt.ylabel('Genres')"
   ]
  },
  {
   "cell_type": "markdown",
   "metadata": {},
   "source": [
    "> ### Research Question 8 : Who are the most frequent cast in the most popular movies?"
   ]
  },
  {
   "cell_type": "code",
   "execution_count": 830,
   "metadata": {},
   "outputs": [],
   "source": [
    "pop_c = df2['cast'].str.cat(sep = '|')\n",
    "pop_c = pd.Series(pop_c.split('|'))\n",
    "pop_count = ddata.value_counts(ascending = False)"
   ]
  },
  {
   "cell_type": "code",
   "execution_count": 835,
   "metadata": {},
   "outputs": [],
   "source": [
    "#taking top 10 results\n",
    "pop_count=pop_count.head(10)"
   ]
  },
  {
   "cell_type": "code",
   "execution_count": 836,
   "metadata": {},
   "outputs": [
    {
     "data": {
      "text/plain": [
       "Robert De Niro       18\n",
       "Tom Cruise           17\n",
       "Jason Statham        16\n",
       "Brad Pitt            16\n",
       "Tom Hanks            16\n",
       "Johnny Depp          16\n",
       "Bruce Willis         16\n",
       "Liam Neeson          15\n",
       "Leonardo DiCaprio    14\n",
       "Harrison Ford        14\n",
       "dtype: int64"
      ]
     },
     "execution_count": 836,
     "metadata": {},
     "output_type": "execute_result"
    }
   ],
   "source": [
    "pop_count"
   ]
  },
  {
   "cell_type": "code",
   "execution_count": 832,
   "metadata": {},
   "outputs": [
    {
     "data": {
      "text/plain": [
       "Text(0, 0.5, 'Cast')"
      ]
     },
     "execution_count": 832,
     "metadata": {},
     "output_type": "execute_result"
    },
    {
     "data": {
      "image/png": "[encoded data removed]",
      "text/plain": [
       "<Figure size 1296x648 with 1 Axes>"
      ]
     },
     "metadata": {
      "needs_background": "light"
     },
     "output_type": "display_data"
    }
   ],
   "source": [
    "pop_count.sort_values(ascending = True).plot(kind='barh',figsize=(18,9))\n",
    "plt.title('Most Frequent Cast',fontsize=20)                                         \n",
    "plt.xlabel('Number of Movies',fontsize=18)\n",
    "plt.ylabel('Cast')"
   ]
  },
  {
   "cell_type": "markdown",
   "metadata": {},
   "source": [
    "<a id='conclusions'></a>\n",
    "## Conclusions\n",
    "\n",
    "> * From the graphs it is quite clear that the film production have benn increasing over the years.\n",
    "> * Total amount of profit have benn increasing over the years.\n",
    "> * The movies with large budget got higher profit.\n",
    "> * Most popular movies have a large budget.\n",
    "> * Most popular movies earned higher profit.\n",
    "> * Most popular genres are Action,Adventure,Drama,Thriller,Comedy.  \n",
    "> * In most popular movies most frequent cast are Robert De Niro,Tom Cruise,Jason Statham,Brad Pitt,Tom Hanks,Johnny Depp,          Bruce Willis\n",
    "> * Most profitable movies have a large budget.\n",
    "> * Most profitable movies earned higher profit.\n",
    "> * Most profitable Genres are Action,Comedy,Adventure,Drama,Thriller\n",
    "> * In most popular movies most frequent cast are Tom Cruise,Tom Hanks,Brad Pitt,Adam Sandler,Cameron Diaz,Sylvester,              Stallone,Will Smith \n",
    "\n",
    "\n",
    "### An Interesting Fact\n",
    ">  * Vote_average have a small impact on popularity and profitability\n",
    "\n",
    "\n",
    "#### limitation: \n",
    "    * The results are not error free.Missing data can affect the result.The conclutions are based on the dataset"
   ]
  },
  {
   "cell_type": "code",
   "execution_count": 833,
   "metadata": {},
   "outputs": [
    {
     "data": {
      "text/plain": [
       "0"
      ]
     },
     "execution_count": 833,
     "metadata": {},
     "output_type": "execute_result"
    }
   ],
   "source": [
    "from subprocess import call\n",
    "call(['python', '-m', 'nbconvert', 'Investigate_a_Dataset.ipynb'])"
   ]
  }
 ],
 "metadata": {
  "kernelspec": {
   "display_name": "Python 3",
   "language": "python",
   "name": "python3"
  },
  "language_info": {
   "codemirror_mode": {
    "name": "ipython",
    "version": 3
   },
   "file_extension": ".py",
   "mimetype": "text/x-python",
   "name": "python",
   "nbconvert_exporter": "python",
   "pygments_lexer": "ipython3",
   "version": "3.7.6"
  }
 },
 "nbformat": 4,
 "nbformat_minor": 2
}
